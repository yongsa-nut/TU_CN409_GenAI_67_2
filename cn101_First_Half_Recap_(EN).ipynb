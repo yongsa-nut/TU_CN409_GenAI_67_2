{
  "nbformat": 4,
  "nbformat_minor": 0,
  "metadata": {
    "colab": {
      "provenance": [],
      "authorship_tag": "ABX9TyOum9rZC201hqs5z1LRN0th",
      "include_colab_link": true
    },
    "kernelspec": {
      "name": "python3",
      "display_name": "Python 3"
    },
    "language_info": {
      "name": "python"
    }
  },
  "cells": [
    {
      "cell_type": "markdown",
      "metadata": {
        "id": "view-in-github",
        "colab_type": "text"
      },
      "source": [
        "<a href=\"https://colab.research.google.com/github/yongsa-nut/TU_CN409_GenAI_67_2/blob/main/cn101_First_Half_Recap_(EN).ipynb\" target=\"_parent\"><img src=\"https://colab.research.google.com/assets/colab-badge.svg\" alt=\"Open In Colab\"/></a>"
      ]
    },
    {
      "cell_type": "markdown",
      "source": [
        "# Recap"
      ],
      "metadata": {
        "id": "ex5R03U6UOH0"
      }
    },
    {
      "cell_type": "markdown",
      "source": [
        "**Q1**: What will the following program print out?\n",
        "\n",
        "```python\n",
        "x = 3\n",
        "y = 5\n",
        "a = x + y * (5 + 1)\n",
        "b = y + 16 // x\n",
        "print(x, a, b)\n",
        "```"
      ],
      "metadata": {
        "id": "ctgLi1X90Lfw"
      }
    },
    {
      "cell_type": "code",
      "source": [
        "3 33 10"
      ],
      "metadata": {
        "id": "llMNvQdu0Lxa"
      },
      "execution_count": null,
      "outputs": []
    },
    {
      "cell_type": "markdown",
      "source": [
        "**Q2** What will the following program print out? Assume the user input 1 and 5 respectively.\n",
        "\n",
        "```python\n",
        "x = int(input('Enter x: '))\n",
        "y = int(input('Enter y: '))\n",
        "print(f'{x+10*5:.2f}', end='-')\n",
        "x = 3\n",
        "print(f'{x+y**2:.2f}')\n",
        "```"
      ],
      "metadata": {
        "id": "K3I1FU_3zi3i"
      }
    },
    {
      "cell_type": "code",
      "execution_count": null,
      "metadata": {
        "id": "cQJx2_xWxZqu"
      },
      "outputs": [],
      "source": []
    },
    {
      "cell_type": "markdown",
      "source": [
        "**Q3**: What will the following program print out?\n",
        "```python\n",
        "a = 10\n",
        "if a > 5:\n",
        "  print('A',end='-')\n",
        "if a > 7:\n",
        "  print('B',end='-')\n",
        "  a = 1\n",
        "if a > 9:\n",
        "  print('C',end='-')\n",
        "else:\n",
        "  print('D')\n",
        "```"
      ],
      "metadata": {
        "id": "9_HIb2Uc25sz"
      }
    },
    {
      "cell_type": "code",
      "source": [],
      "metadata": {
        "id": "3vcCNqCr26A1"
      },
      "execution_count": null,
      "outputs": []
    },
    {
      "cell_type": "markdown",
      "source": [
        "**Q4**: What will the following program print out?\n",
        "\n",
        "```python\n",
        "lst1 = [1, 5, 7]\n",
        "lst2 = [12, 7, 4]\n",
        "x = (lst2[1] < lst1[1]) or (lst2[-1] < lst1[0])\n",
        "y = x and (10 != 20) and (10 == 10)\n",
        "if y:\n",
        "  print('A',end='-')\n",
        "elif x:\n",
        "  print('B',end='-')\n",
        "print('D')\n",
        "```"
      ],
      "metadata": {
        "id": "3oNxZoP918Zf"
      }
    },
    {
      "cell_type": "code",
      "source": [],
      "metadata": {
        "id": "c4In5VZZ18ob"
      },
      "execution_count": null,
      "outputs": []
    },
    {
      "cell_type": "markdown",
      "source": [
        "**Q5**: What will the following program print out?\n",
        "```python\n",
        "total = 0\n",
        "for i in range(1, 7, 2):\n",
        "  total += i\n",
        "for j in range(5 , 1, -2):\n",
        "  total += j\n",
        "print(i, j, total)\n",
        "```"
      ],
      "metadata": {
        "id": "tjX1O5VR3RnU"
      }
    },
    {
      "cell_type": "code",
      "source": [],
      "metadata": {
        "id": "Ao21cgt23R4e"
      },
      "execution_count": null,
      "outputs": []
    },
    {
      "cell_type": "markdown",
      "source": [
        "**Q6**: What will the following program print out?\n",
        "```python\n",
        "total = 0\n",
        "x = 1\n",
        "while True:\n",
        "  total = x*5\n",
        "  x *= 2\n",
        "  if x > 9:\n",
        "    break\n",
        "print(x, total)\n",
        "```"
      ],
      "metadata": {
        "id": "3HtpGxLS388M"
      }
    },
    {
      "cell_type": "code",
      "source": [],
      "metadata": {
        "id": "jMB-tKeu4FyX"
      },
      "execution_count": null,
      "outputs": []
    },
    {
      "cell_type": "markdown",
      "source": [
        "**Q7**: What will the following program print out?\n",
        "\n",
        "```python\n",
        "lst1 = [5, 8, 10, 12]\n",
        "for i in range(0, len(lst1)):\n",
        "  if lst1[i] % 5 == 0:\n",
        "    lst1[i] = lst1[i//2]\n",
        "  else:\n",
        "    lst1[i] = 0\n",
        "print(lst1)\n",
        "```"
      ],
      "metadata": {
        "id": "FvHMU6NQ4F-U"
      }
    },
    {
      "cell_type": "code",
      "source": [],
      "metadata": {
        "id": "On34MKkj4MD3"
      },
      "execution_count": null,
      "outputs": []
    },
    {
      "cell_type": "markdown",
      "source": [
        "**Q8**: What will the following program print out?\n",
        "```python\n",
        "x = 1\n",
        "y = 0\n",
        "while x < 8:\n",
        "  print(x, end='-')\n",
        "  for i in range(1, x, 2):\n",
        "    y += i\n",
        "  x += 3\n",
        "  print(y, end =':')\n",
        "print(x)\n",
        "```"
      ],
      "metadata": {
        "id": "M2w4DTU74Mdo"
      }
    },
    {
      "cell_type": "code",
      "source": [],
      "metadata": {
        "id": "c5X7cZLZ4QSy"
      },
      "execution_count": null,
      "outputs": []
    },
    {
      "cell_type": "markdown",
      "source": [
        "**Q9**: What will the following program print out?\n",
        "```python\n",
        "my_list = [1,5]\n",
        "your_list = [10,12,14]\n",
        "lst1 = my_list*3\n",
        "lst2 = my_list*2 + your_list\n",
        "print(lst1)\n",
        "print(lst2)\n",
        "```"
      ],
      "metadata": {
        "id": "5B3wpFc5XLtV"
      }
    },
    {
      "cell_type": "code",
      "source": [],
      "metadata": {
        "id": "lOIix100XL_A"
      },
      "execution_count": null,
      "outputs": []
    },
    {
      "cell_type": "markdown",
      "source": [
        "**Q10**: What will the following program print out?\n",
        "```python\n",
        "seqs = [2, 5, 7, 10]\n",
        "x = len(seqs)\n",
        "for i in range(x):\n",
        "  if seqs[i] % 2 == 1:\n",
        "    x = seqs[i+1]\n",
        "  elif seqs[i]%2 == 0:\n",
        "    seqs[i] = x+1\n",
        "print(seqs)\n",
        "\n",
        "for i in range(0, len(seqs), 1+3//2):\n",
        "  seqs[i] = seqs[i+1] + 1\n",
        "print(seqs)\n",
        "```"
      ],
      "metadata": {
        "id": "JyG8dLvNXJQw"
      }
    },
    {
      "cell_type": "code",
      "source": [],
      "metadata": {
        "id": "adPdP9wyXKkl"
      },
      "execution_count": null,
      "outputs": []
    },
    {
      "cell_type": "markdown",
      "source": [
        "**Q11**: Fill in the blank to calculate the following equation $z = \\frac{(x+1)^2}{2(y-1)^3}$."
      ],
      "metadata": {
        "id": "di77L7mo8VpY"
      }
    },
    {
      "cell_type": "code",
      "source": [
        "x = int(input('Enter x: '))\n",
        "y = int(input('Enter y: '))\n",
        "z = ..."
      ],
      "metadata": {
        "id": "-_PN6JUD8ms-"
      },
      "execution_count": null,
      "outputs": []
    },
    {
      "cell_type": "markdown",
      "source": [
        "## Programming"
      ],
      "metadata": {
        "id": "DmXrbEScxkmr"
      }
    },
    {
      "cell_type": "markdown",
      "source": [
        "**Q12**: Area and Circumference of a circle\n",
        "\n",
        "Write a program to calculate the area ($\\pi r^2$) and circumference ($2\\pi r$) of a circle. Set $\\pi$ to 3.14.\n",
        "\n",
        "**Input**:\n",
        "- A real number, radius\n",
        "\n",
        "**Output**:\n",
        "- Area. three decimal places\n",
        "- Circumference. three decimal places\n",
        "\n",
        "**Requirements**:\n",
        "- Must use Named Constants\n",
        "\n",
        "**Example**:\n",
        "```\n",
        "Enter a radius: 3\n",
        "Area: 28.260\n",
        "Circumference: 18.840\n",
        "```"
      ],
      "metadata": {
        "id": "xlfeW7HmL21Q"
      }
    },
    {
      "cell_type": "code",
      "source": [
        "# Named Constants\n",
        "\n",
        "# Input\n",
        "\n",
        "# Process\n",
        "\n",
        "# Output\n"
      ],
      "metadata": {
        "id": "IXZb_Zu5L3DO"
      },
      "execution_count": null,
      "outputs": []
    },
    {
      "cell_type": "markdown",
      "source": [
        "**Q13**: Electricity bill\n",
        "\n",
        "Calculate electricity bill according to progressive rates with the following details:\n",
        "Total electricity bill = Units used x Electricity rate (according to tier) + Monthly service fee\n",
        "\n",
        "The electricity rates are tiered as follows:\n",
        "\n",
        "| Units used (kWh) | Rate (Baht/unit) |\n",
        "|-----------------|------------------|\n",
        "| 0-50            | 3.25             |\n",
        "| 51-100          | 4.00             |\n",
        "| 101-200         | 4.50             |\n",
        "| 201 and above   | 5.00             |\n",
        "\n",
        "**Example calculations:**\n",
        "\n",
        "Assume monthly service fee = 38.22 Baht\n",
        "\n",
        "**Example 1**: Units used: 45 kWh.\n",
        "\n",
        "Bill = (45 x 3.25) + 38.22 = 184.47 Baht\n",
        "\n",
        "**Example 2**: Units used: 80 kWh.\n",
        "\n",
        "Bill = (50 x 3.25) + (30 x 4.00) + 38.22 = 320.72 Baht\n",
        "\n",
        "**Example 3**: Units used: 150 kWh.\n",
        "\n",
        "Bill = (50 x 3.25) + (50 x 4.00) + (50 x 4.50) + 38.22 = 625.72 Baht\n",
        "\n",
        "**Example 4**: Units used: 250 kWh.\n",
        "\n",
        "Bill = (50 x 3.25) + (50 x 4.00) + (100 x 4.50) + (50 x 5.00) + 38.22 = 1100.72 Baht\n",
        "\n",
        "Write a program to calculate the electricity bill from the units used.\n",
        "\n",
        "**Input**:\n",
        "- Real number: Units used\n",
        "- Real number: Monthly service fee\n",
        "\n",
        "**Output**:\n",
        "- Total electricity bill with two decimal places\n",
        "\n",
        "**Example: 2**\n",
        "```\n",
        "Units: 45\n",
        "Monthly service fee: 25\n",
        "Bill: 171.25\n",
        "```\n",
        "\n",
        "**Example: 2**\n",
        "```\n",
        "Units: 250\n",
        "Monthly service fee: 38.22\n",
        "Bill: 1100.72\n",
        "```"
      ],
      "metadata": {
        "id": "4VgJp_uvJVxV"
      }
    },
    {
      "cell_type": "code",
      "source": [
        "# Input\n",
        "units = ...\n",
        "fee = ...\n",
        "# Process\n",
        "\n",
        "if units <= 50:\n",
        "  bill = units*3.25 + fee\n",
        "elif units <= 100:\n",
        "  # fill in the rest\n",
        "  ...\n"
      ],
      "metadata": {
        "id": "VSfEXKMxxofS"
      },
      "execution_count": null,
      "outputs": []
    },
    {
      "cell_type": "markdown",
      "source": [
        "**Q14**: BMI + Validation\n",
        "\n",
        "Write a program to calculate Body Mass Index (BMI) and tell the category based on the following criteria:\n",
        "\n",
        "- Underweight: BMI < 18.5\n",
        "- Normal weight: 18.5 <= BMI < 25\n",
        "- Overweight: 25 <= BMI < 30\n",
        "- Obesity: BMI >= 30\n",
        "\n",
        "BMI = $\\frac{\\text{weight (kg)}}{\\text{(height (m))}^2}$\n",
        "\n",
        "**Input**:\n",
        "* Real number, Weight in kg\n",
        "* Real number, Height in meter.\n",
        "\n",
        "**Output**:\n",
        "* BMI in two decimal and the category.\n",
        "\n",
        "**Requirements**\n",
        "\n",
        "- Must check that the height is between 0 - 2.5 (m). If incorrect, keep asking the user to input until it's valid\n",
        "- Must check that the weight is between 0 - 300 (kg). If incorrect, keep asking the user to input until it's valid\n",
        "- Must **Named Constants**\n",
        "\n",
        "Example 1 (lines start with `>` are input)\n",
        "```\n",
        ">Weight (kg): 70\n",
        ">Height (meter): 1.75\n",
        "Your BMI is 22.86\n",
        "Normal weight\n",
        "```\n",
        "\n",
        "Example 2\n",
        "```\n",
        ">Weight (kg): 350\n",
        "Weight must be between 0 and 300 (kg)\n",
        ">Weight (kg): -20\n",
        "Weight must be between 0 and 300 (kg)\n",
        ">Weight (kg): 80\n",
        ">Height (meter): 175\n",
        "Height must be between 0 and 2.5 (m)\n",
        ">Height (meter): -50\n",
        "Height must be between 0 and 2.5 (m)\n",
        ">Height (meter): 1.70\n",
        "Your BMI is 27.68\n",
        "Overweight\n",
        "```"
      ],
      "metadata": {
        "id": "nulvl4-TAwZg"
      }
    },
    {
      "cell_type": "code",
      "source": [
        "# Named Constants\n",
        "MIN_WEIGHT = 0\n",
        "MAX_WEIGHT = ...\n",
        "MIN_HEIGHT = 0\n",
        "MAX_HEIGHT = ...\n",
        "\n",
        "# Input Validation\n",
        "\n",
        "\n",
        "\n",
        "# Process\n"
      ],
      "metadata": {
        "id": "bCt0XXLaArVM"
      },
      "execution_count": null,
      "outputs": []
    },
    {
      "cell_type": "markdown",
      "source": [
        "**Q15**: Temperature Converter Program\n",
        "\n",
        "Write a program that converts temperatures between Fahrenheit and Celsius scales. The program should display a menu (as shown below) that allows the user to choose between converting from Celsius to Fahrenheit, Fahrenheit to Celsius, or exiting the program.\n",
        "\n",
        "The menu has three options:\n",
        "- A. Convert Celsius to Fahrenheit: F = (C x 1.8) + 32\n",
        "- B. Convert Fahrenheit to Celsius: C = (F - 32) ÷ 1.8\n",
        "- X. Exit the Program\n",
        "\n",
        "**Input**:\n",
        "- A string for an option\n",
        "- If option one, a **real number** for a temperature in Celsius\n",
        "- If option two, a **real number** for a temperature in Fahrenheit\n",
        "\n",
        "**Output**:\n",
        "- If option one, a **real number** for a temperature in Fahrenheit (1 decimal place)\n",
        "- If option two, a **real number** for a temperature in Celsius (1 decimal place)\n",
        "\n",
        "**Hint**:\n",
        "- Use `while True:`\n",
        "\n",
        "Example:\n",
        "```\n",
        "Temperature Converter:\n",
        "A - Celsius to Fahrenheit\n",
        "B - Fahrenheit to Celsius\n",
        "X - Exit\n",
        "---\n",
        "Enter choice: A\n",
        "Enter Celsius: 100\n",
        "Fahrenheit: 212.0F\n",
        "***\n",
        "Temperature Converter:\n",
        "A - Celsius to Fahrenheit\n",
        "B - Fahrenheit to Celsius\n",
        "X - Exit\n",
        "---\n",
        "Enter choice: B\n",
        "Enter Fahrenheit: 98.6\n",
        "Celsius: 37.0C\n",
        "***\n",
        "Temperature Converter:\n",
        "A - Celsius to Fahrenheit\n",
        "B - Fahrenheit to Celsius\n",
        "X - Exit\n",
        "---\n",
        "Enter choice: X\n",
        "Goodbye!\n",
        "```"
      ],
      "metadata": {
        "id": "7XtV0qlO4zFE"
      }
    },
    {
      "cell_type": "code",
      "source": [
        "while True:\n",
        "  print('Temperature Converter:)\n",
        "  ...\n",
        "\n",
        "  choice = ...\n",
        "  # fill in the rest\n",
        ""
      ],
      "metadata": {
        "id": "WPPGSxo7JwN1"
      },
      "execution_count": null,
      "outputs": []
    },
    {
      "cell_type": "markdown",
      "source": [
        "---"
      ],
      "metadata": {
        "id": "6LFF9Uyg43ux"
      }
    }
  ]
}