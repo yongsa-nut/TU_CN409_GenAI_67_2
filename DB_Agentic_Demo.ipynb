{
  "nbformat": 4,
  "nbformat_minor": 0,
  "metadata": {
    "colab": {
      "provenance": [],
      "authorship_tag": "ABX9TyNAFLMhSQKcE7kYfrMAiFIz",
      "include_colab_link": true
    },
    "kernelspec": {
      "name": "python3",
      "display_name": "Python 3"
    },
    "language_info": {
      "name": "python"
    }
  },
  "cells": [
    {
      "cell_type": "markdown",
      "metadata": {
        "id": "view-in-github",
        "colab_type": "text"
      },
      "source": [
        "<a href=\"https://colab.research.google.com/github/yongsa-nut/TU_CN409_GenAI_67_2/blob/main/DB_Agentic_Demo.ipynb\" target=\"_parent\"><img src=\"https://colab.research.google.com/assets/colab-badge.svg\" alt=\"Open In Colab\"/></a>"
      ]
    },
    {
      "cell_type": "markdown",
      "source": [
        "# DuckDB Agentic Demo\n",
        "\n",
        "Adapted from https://github.com/disler/single-file-agents/blob/main/sfa_duckdb_anthropic_v2.py"
      ],
      "metadata": {
        "id": "ewbFlKtk7QcT"
      }
    },
    {
      "cell_type": "code",
      "source": [
        "!pip install anthropic"
      ],
      "metadata": {
        "id": "d0kSyL6v7mTm"
      },
      "execution_count": null,
      "outputs": []
    },
    {
      "cell_type": "code",
      "execution_count": 50,
      "metadata": {
        "id": "dj4w-a-77FaG"
      },
      "outputs": [],
      "source": [
        "import duckdb\n",
        "import subprocess\n",
        "import json\n",
        "from typing import List\n",
        "from rich import print\n",
        "from anthropic import Anthropic\n",
        "from google.colab import userdata"
      ]
    },
    {
      "cell_type": "code",
      "source": [
        "#download the data\n",
        "!wget https://github.com/disler/single-file-agents/raw/refs/heads/main/data/analytics.db"
      ],
      "metadata": {
        "id": "HihAPTh_7osw"
      },
      "execution_count": null,
      "outputs": []
    },
    {
      "cell_type": "code",
      "source": [
        "# Connect to the database\n",
        "DB_PATH = '/content/analytics.db'\n",
        "DB_CONN = duckdb.connect(DB_PATH)"
      ],
      "metadata": {
        "id": "m_ie2MzU9it6"
      },
      "execution_count": 18,
      "outputs": []
    },
    {
      "cell_type": "markdown",
      "source": [
        "## Database Agent\n",
        "\n",
        "5 tools (functions)\n",
        "- `list_table`: Returns list of available tables in database\n",
        "- `describe_table`: Returns schema info for specified table\n",
        "- `sample_table`: Returns sample rows from specified table, always specify row_sample_size\n",
        "- `run_test_sql_query`: Tests a SQL query and returns results (only visible to agent)\n",
        "- `run_final_sql_query`: Runs the final validated SQL query and shows results to user\n",
        "\n",
        "The agent will keep using tools looking at the result and keep going until it generates accurate queries for the user."
      ],
      "metadata": {
        "id": "KZ0WjK9U8ged"
      }
    },
    {
      "cell_type": "markdown",
      "source": [
        "### `list_tables`\n",
        "\n",
        "Returns a list of tables in the database. The agent uses this to discover available tables and make informed decisions."
      ],
      "metadata": {
        "id": "OdqV6n1HAw_P"
      }
    },
    {
      "cell_type": "code",
      "source": [
        "def list_tables(reasoning: str) -> List[str]:\n",
        "    \"\"\"Returns a list of tables in the database.\n",
        "\n",
        "    The agent uses this to discover available tables and make informed decisions.\n",
        "\n",
        "    Args:\n",
        "        reasoning: Explanation of why we're listing tables relative to user request\n",
        "\n",
        "    Returns:\n",
        "        List of table names as strings\n",
        "    \"\"\"\n",
        "    try:\n",
        "        # Use the global connection\n",
        "        result = DB_CONN.execute(\"SELECT name FROM sqlite_master WHERE type='table'\").fetchall()\n",
        "\n",
        "        # Extract table names from the result\n",
        "        table_names = [row[0] for row in result]\n",
        "\n",
        "        print(f\"List Tables Tool - Reasoning: {reasoning}\")\n",
        "        return table_names\n",
        "    except Exception as e:\n",
        "        print(f\"Error listing tables: {str(e)}\")\n",
        "        return []"
      ],
      "metadata": {
        "id": "dRWqlozC8dFu"
      },
      "execution_count": 19,
      "outputs": []
    },
    {
      "cell_type": "code",
      "source": [
        "list_tables('Test')"
      ],
      "metadata": {
        "colab": {
          "base_uri": "https://localhost:8080/",
          "height": 51
        },
        "id": "I3aQI_yoEC98",
        "outputId": "6b751a88-3944-45a2-d053-56c463416927"
      },
      "execution_count": 29,
      "outputs": [
        {
          "output_type": "display_data",
          "data": {
            "text/plain": [
              "List Tables Tool - Reasoning: Test\n"
            ],
            "text/html": [
              "<pre style=\"white-space:pre;overflow-x:auto;line-height:normal;font-family:Menlo,'DejaVu Sans Mono',consolas,'Courier New',monospace\">List Tables Tool - Reasoning: Test\n",
              "</pre>\n"
            ]
          },
          "metadata": {}
        },
        {
          "output_type": "execute_result",
          "data": {
            "text/plain": [
              "['User']"
            ]
          },
          "metadata": {},
          "execution_count": 29
        }
      ]
    },
    {
      "cell_type": "markdown",
      "source": [
        "### `describe_table`\n",
        "\n",
        "Returns schema information about the specified table.\n",
        "The agent uses this to understand table structure and available columns."
      ],
      "metadata": {
        "id": "eu_qj1jIAytA"
      }
    },
    {
      "cell_type": "code",
      "source": [
        "def describe_table(reasoning: str, table_name: str) -> str:\n",
        "    \"\"\"Returns schema information about the specified table.\n",
        "\n",
        "    The agent uses this to understand table structure and available columns.\n",
        "\n",
        "    Args:\n",
        "        reasoning: Explanation of why we're describing this table\n",
        "        table_name: Name of table to describe\n",
        "\n",
        "    Returns:\n",
        "        String containing table schema information\n",
        "    \"\"\"\n",
        "    try:\n",
        "        # Use the global connection to execute DESCRIBE\n",
        "        result = DB_CONN.execute(f\"DESCRIBE {table_name}\").fetchall()\n",
        "\n",
        "        # Convert result to a string - DuckDB's DESCRIBE already returns\n",
        "        # nicely formatted column information\n",
        "        schema_info = \"\\n\".join(str(row) for row in result)\n",
        "\n",
        "        # Log the operation\n",
        "        print(f\"Describe Table Tool - Table: {table_name} - Reasoning: {reasoning}\")\n",
        "        return schema_info\n",
        "\n",
        "    except Exception as e:\n",
        "        print(f\"Error describing table: {str(e)}\")\n",
        "        return \"\""
      ],
      "metadata": {
        "id": "odnmG5voA1bw"
      },
      "execution_count": 30,
      "outputs": []
    },
    {
      "cell_type": "code",
      "source": [
        "print(describe_table('Test','User'))"
      ],
      "metadata": {
        "colab": {
          "base_uri": "https://localhost:8080/",
          "height": 164
        },
        "id": "TqcZdk7QBfw-",
        "outputId": "ce9d8224-e7e5-4111-84e6-e4e64b6b224f"
      },
      "execution_count": 31,
      "outputs": [
        {
          "output_type": "display_data",
          "data": {
            "text/plain": [
              "Describe Table Tool - Table: User - Reasoning: Test\n"
            ],
            "text/html": [
              "<pre style=\"white-space:pre;overflow-x:auto;line-height:normal;font-family:Menlo,'DejaVu Sans Mono',consolas,'Courier New',monospace\">Describe Table Tool - Table: User - Reasoning: Test\n",
              "</pre>\n"
            ]
          },
          "metadata": {}
        },
        {
          "output_type": "display_data",
          "data": {
            "text/plain": [
              "\u001b[1m(\u001b[0m\u001b[32m'id'\u001b[0m, \u001b[32m'UUID'\u001b[0m, \u001b[32m'YES'\u001b[0m, \u001b[3;35mNone\u001b[0m, \u001b[3;35mNone\u001b[0m, \u001b[3;35mNone\u001b[0m\u001b[1m)\u001b[0m\n",
              "\u001b[1m(\u001b[0m\u001b[32m'name'\u001b[0m, \u001b[32m'VARCHAR'\u001b[0m, \u001b[32m'YES'\u001b[0m, \u001b[3;35mNone\u001b[0m, \u001b[3;35mNone\u001b[0m, \u001b[3;35mNone\u001b[0m\u001b[1m)\u001b[0m\n",
              "\u001b[1m(\u001b[0m\u001b[32m'age'\u001b[0m, \u001b[32m'BIGINT'\u001b[0m, \u001b[32m'YES'\u001b[0m, \u001b[3;35mNone\u001b[0m, \u001b[3;35mNone\u001b[0m, \u001b[3;35mNone\u001b[0m\u001b[1m)\u001b[0m\n",
              "\u001b[1m(\u001b[0m\u001b[32m'city'\u001b[0m, \u001b[32m'VARCHAR'\u001b[0m, \u001b[32m'YES'\u001b[0m, \u001b[3;35mNone\u001b[0m, \u001b[3;35mNone\u001b[0m, \u001b[3;35mNone\u001b[0m\u001b[1m)\u001b[0m\n",
              "\u001b[1m(\u001b[0m\u001b[32m'score'\u001b[0m, \u001b[32m'DOUBLE'\u001b[0m, \u001b[32m'YES'\u001b[0m, \u001b[3;35mNone\u001b[0m, \u001b[3;35mNone\u001b[0m, \u001b[3;35mNone\u001b[0m\u001b[1m)\u001b[0m\n",
              "\u001b[1m(\u001b[0m\u001b[32m'is_active'\u001b[0m, \u001b[32m'BOOLEAN'\u001b[0m, \u001b[32m'YES'\u001b[0m, \u001b[3;35mNone\u001b[0m, \u001b[3;35mNone\u001b[0m, \u001b[3;35mNone\u001b[0m\u001b[1m)\u001b[0m\n",
              "\u001b[1m(\u001b[0m\u001b[32m'status'\u001b[0m, \u001b[32m'VARCHAR'\u001b[0m, \u001b[32m'YES'\u001b[0m, \u001b[3;35mNone\u001b[0m, \u001b[3;35mNone\u001b[0m, \u001b[3;35mNone\u001b[0m\u001b[1m)\u001b[0m\n",
              "\u001b[1m(\u001b[0m\u001b[32m'created_at'\u001b[0m, \u001b[32m'DATE'\u001b[0m, \u001b[32m'YES'\u001b[0m, \u001b[3;35mNone\u001b[0m, \u001b[3;35mNone\u001b[0m, \u001b[3;35mNone\u001b[0m\u001b[1m)\u001b[0m\n"
            ],
            "text/html": [
              "<pre style=\"white-space:pre;overflow-x:auto;line-height:normal;font-family:Menlo,'DejaVu Sans Mono',consolas,'Courier New',monospace\"><span style=\"font-weight: bold\">(</span><span style=\"color: #008000; text-decoration-color: #008000\">'id'</span>, <span style=\"color: #008000; text-decoration-color: #008000\">'UUID'</span>, <span style=\"color: #008000; text-decoration-color: #008000\">'YES'</span>, <span style=\"color: #800080; text-decoration-color: #800080; font-style: italic\">None</span>, <span style=\"color: #800080; text-decoration-color: #800080; font-style: italic\">None</span>, <span style=\"color: #800080; text-decoration-color: #800080; font-style: italic\">None</span><span style=\"font-weight: bold\">)</span>\n",
              "<span style=\"font-weight: bold\">(</span><span style=\"color: #008000; text-decoration-color: #008000\">'name'</span>, <span style=\"color: #008000; text-decoration-color: #008000\">'VARCHAR'</span>, <span style=\"color: #008000; text-decoration-color: #008000\">'YES'</span>, <span style=\"color: #800080; text-decoration-color: #800080; font-style: italic\">None</span>, <span style=\"color: #800080; text-decoration-color: #800080; font-style: italic\">None</span>, <span style=\"color: #800080; text-decoration-color: #800080; font-style: italic\">None</span><span style=\"font-weight: bold\">)</span>\n",
              "<span style=\"font-weight: bold\">(</span><span style=\"color: #008000; text-decoration-color: #008000\">'age'</span>, <span style=\"color: #008000; text-decoration-color: #008000\">'BIGINT'</span>, <span style=\"color: #008000; text-decoration-color: #008000\">'YES'</span>, <span style=\"color: #800080; text-decoration-color: #800080; font-style: italic\">None</span>, <span style=\"color: #800080; text-decoration-color: #800080; font-style: italic\">None</span>, <span style=\"color: #800080; text-decoration-color: #800080; font-style: italic\">None</span><span style=\"font-weight: bold\">)</span>\n",
              "<span style=\"font-weight: bold\">(</span><span style=\"color: #008000; text-decoration-color: #008000\">'city'</span>, <span style=\"color: #008000; text-decoration-color: #008000\">'VARCHAR'</span>, <span style=\"color: #008000; text-decoration-color: #008000\">'YES'</span>, <span style=\"color: #800080; text-decoration-color: #800080; font-style: italic\">None</span>, <span style=\"color: #800080; text-decoration-color: #800080; font-style: italic\">None</span>, <span style=\"color: #800080; text-decoration-color: #800080; font-style: italic\">None</span><span style=\"font-weight: bold\">)</span>\n",
              "<span style=\"font-weight: bold\">(</span><span style=\"color: #008000; text-decoration-color: #008000\">'score'</span>, <span style=\"color: #008000; text-decoration-color: #008000\">'DOUBLE'</span>, <span style=\"color: #008000; text-decoration-color: #008000\">'YES'</span>, <span style=\"color: #800080; text-decoration-color: #800080; font-style: italic\">None</span>, <span style=\"color: #800080; text-decoration-color: #800080; font-style: italic\">None</span>, <span style=\"color: #800080; text-decoration-color: #800080; font-style: italic\">None</span><span style=\"font-weight: bold\">)</span>\n",
              "<span style=\"font-weight: bold\">(</span><span style=\"color: #008000; text-decoration-color: #008000\">'is_active'</span>, <span style=\"color: #008000; text-decoration-color: #008000\">'BOOLEAN'</span>, <span style=\"color: #008000; text-decoration-color: #008000\">'YES'</span>, <span style=\"color: #800080; text-decoration-color: #800080; font-style: italic\">None</span>, <span style=\"color: #800080; text-decoration-color: #800080; font-style: italic\">None</span>, <span style=\"color: #800080; text-decoration-color: #800080; font-style: italic\">None</span><span style=\"font-weight: bold\">)</span>\n",
              "<span style=\"font-weight: bold\">(</span><span style=\"color: #008000; text-decoration-color: #008000\">'status'</span>, <span style=\"color: #008000; text-decoration-color: #008000\">'VARCHAR'</span>, <span style=\"color: #008000; text-decoration-color: #008000\">'YES'</span>, <span style=\"color: #800080; text-decoration-color: #800080; font-style: italic\">None</span>, <span style=\"color: #800080; text-decoration-color: #800080; font-style: italic\">None</span>, <span style=\"color: #800080; text-decoration-color: #800080; font-style: italic\">None</span><span style=\"font-weight: bold\">)</span>\n",
              "<span style=\"font-weight: bold\">(</span><span style=\"color: #008000; text-decoration-color: #008000\">'created_at'</span>, <span style=\"color: #008000; text-decoration-color: #008000\">'DATE'</span>, <span style=\"color: #008000; text-decoration-color: #008000\">'YES'</span>, <span style=\"color: #800080; text-decoration-color: #800080; font-style: italic\">None</span>, <span style=\"color: #800080; text-decoration-color: #800080; font-style: italic\">None</span>, <span style=\"color: #800080; text-decoration-color: #800080; font-style: italic\">None</span><span style=\"font-weight: bold\">)</span>\n",
              "</pre>\n"
            ]
          },
          "metadata": {}
        }
      ]
    },
    {
      "cell_type": "markdown",
      "source": [
        "```\n",
        "('id', 'UUID', 'YES', None, None, None)\n",
        " │      │      │      │     │     │\n",
        " │      │      │      │     │     └─ 6. Column comment or extra info (None here)\n",
        " │      │      │      │     └───── 5. Column position or other metadata (None here)\n",
        " │      │      │      └─────────── 4. Default value (None here)\n",
        " │      │      └──────────────────── 3. Nullable status ('YES' means column can be NULL)\n",
        " │      └─────────────────────────── 2. Data type (UUID type)\n",
        " └────────────────────────────────── 1. Column name (id)\n",
        "```"
      ],
      "metadata": {
        "id": "i5Gl8xwwD5Um"
      }
    },
    {
      "cell_type": "markdown",
      "source": [
        "### `sample_table`\n",
        "\n",
        "Returns a sample of rows from the specified table.\n",
        "The agent uses this to understand actual data content and patterns."
      ],
      "metadata": {
        "id": "y8xxP-OFEJiM"
      }
    },
    {
      "cell_type": "code",
      "source": [
        "def sample_table(reasoning: str, table_name: str, row_sample_size: int) -> str:\n",
        "    \"\"\"Returns a sample of rows from the specified table.\n",
        "\n",
        "    The agent uses this to understand actual data content and patterns.\n",
        "\n",
        "    Args:\n",
        "        reasoning: Explanation of why we're sampling this table\n",
        "        table_name: Name of table to sample from\n",
        "        row_sample_size: Number of rows to sample aim for 3-5 rows\n",
        "\n",
        "    Returns:\n",
        "        String containing sample rows in readable format\n",
        "    \"\"\"\n",
        "    try:\n",
        "        # Use the global connection to select sample rows\n",
        "        result = DB_CONN.execute(\n",
        "            f\"SELECT * FROM {table_name} LIMIT {row_sample_size}\"\n",
        "        ).fetchall()\n",
        "\n",
        "        # Get column names for context\n",
        "        columns = DB_CONN.execute(\n",
        "            f\"SELECT column_name FROM information_schema.columns WHERE table_name = '{table_name}'\"\n",
        "        ).fetchall()\n",
        "        column_names = [col[0] for col in columns]\n",
        "\n",
        "        # Format the output with column names and data\n",
        "        header = str(column_names)\n",
        "        rows = [str(row) for row in result]\n",
        "\n",
        "        sample_data = header + \"\\n\" + \"\\n\".join(rows)\n",
        "\n",
        "        print(f\"Sample Table Tool - Table: {table_name} - Rows: {row_sample_size} - Reasoning: {reasoning}\")\n",
        "\n",
        "        return sample_data\n",
        "\n",
        "    except Exception as e:\n",
        "        print(f\"Error sampling table: {str(e)}\")\n",
        "        return \"\""
      ],
      "metadata": {
        "id": "ihqyBLi8EfOO"
      },
      "execution_count": 34,
      "outputs": []
    },
    {
      "cell_type": "code",
      "source": [
        "print(sample_table('Test','User',5))"
      ],
      "metadata": {
        "id": "1Ic75fArEzQJ"
      },
      "execution_count": null,
      "outputs": []
    },
    {
      "cell_type": "markdown",
      "source": [
        "### `run_test_sql_query`\n",
        "\n",
        "Executes a test SQL query and returns results.\n",
        "\n",
        "The agent uses this to validate queries before finalizing them. Results are only shown to the agent, not the user."
      ],
      "metadata": {
        "id": "EzSe6MIdFfyA"
      }
    },
    {
      "cell_type": "code",
      "source": [
        "def run_test_sql_query(reasoning: str, sql_query: str) -> str:\n",
        "    \"\"\"Executes a test SQL query and returns results.\n",
        "\n",
        "    The agent uses this to validate queries before finalizing them.\n",
        "    Results are only shown to the agent, not the user.\n",
        "\n",
        "    Args:\n",
        "        reasoning: Explanation of why we're running this test query\n",
        "        sql_query: The SQL query to test\n",
        "\n",
        "    Returns:\n",
        "        Query results as a string\n",
        "    \"\"\"\n",
        "    try:\n",
        "        # Use the global connection to execute the query\n",
        "        result = DB_CONN.execute(sql_query).fetchall()\n",
        "\n",
        "        # Convert result to a simple string representation\n",
        "        # For educational purposes, keeping the output straightforward\n",
        "        output = \"\\n\".join(str(row) for row in result)\n",
        "\n",
        "        print(f\"Test Query Tool - Reasoning: {reasoning}\")\n",
        "        print(f\"Query: {sql_query}\")\n",
        "\n",
        "        return output\n",
        "    except Exception as e:\n",
        "        print(f\"Error running test query: {str(e)}\")\n",
        "        return str(e)"
      ],
      "metadata": {
        "id": "R2RaalN-FjaG"
      },
      "execution_count": 38,
      "outputs": []
    },
    {
      "cell_type": "code",
      "source": [
        "print(run_test_sql_query('Test','SELECT * FROM User WHERE AGE > 50'))"
      ],
      "metadata": {
        "id": "2_0T1MeBF6_U"
      },
      "execution_count": null,
      "outputs": []
    },
    {
      "cell_type": "markdown",
      "source": [
        "### `run_final_sql_query`"
      ],
      "metadata": {
        "id": "K05cY4jiGj17"
      }
    },
    {
      "cell_type": "code",
      "source": [
        "def run_final_sql_query(reasoning: str, sql_query: str) -> str:\n",
        "    \"\"\"Executes the final SQL query and returns results to user.\n",
        "\n",
        "    This is the last tool call the agent should make after validating the query.\n",
        "\n",
        "    Args:\n",
        "        reasoning: Final explanation of how this query satisfies user request\n",
        "        sql_query: The validated SQL query to run\n",
        "\n",
        "    Returns:\n",
        "        Query results as a string\n",
        "    \"\"\"\n",
        "    try:\n",
        "        # Use the global connection to execute the query\n",
        "        result = DB_CONN.execute(sql_query).fetchall()\n",
        "\n",
        "        # Convert result to a string - format is a simple representation of each row\n",
        "        results_str = \"\\n\".join(str(row) for row in result)\n",
        "\n",
        "        # Use regular print with simple formatting\n",
        "        print(f\"Final Query Tool\\nReasoning: {reasoning}\\nQuery: {sql_query}\")\n",
        "\n",
        "        return results_str\n",
        "    except Exception as e:\n",
        "        print(f\"Error running final query: {str(e)}\")\n",
        "        return str(e)"
      ],
      "metadata": {
        "id": "0pocut--G3Ym"
      },
      "execution_count": 43,
      "outputs": []
    },
    {
      "cell_type": "code",
      "source": [
        "print(run_final_sql_query('Test','SELECT * FROM User WHERE AGE > 50'))"
      ],
      "metadata": {
        "id": "nxCbECeCG5Fd"
      },
      "execution_count": null,
      "outputs": []
    },
    {
      "cell_type": "markdown",
      "source": [
        "## Defining Tools"
      ],
      "metadata": {
        "id": "wjW1ink6HCkh"
      }
    },
    {
      "cell_type": "code",
      "source": [
        "tools=[\n",
        "        {\n",
        "            \"name\": \"list_tables\",\n",
        "            \"description\": \"Returns a list of available tables in database\",\n",
        "            \"input_schema\": {\n",
        "                \"type\": \"object\",\n",
        "                \"properties\": {\n",
        "                    \"reasoning\": {\n",
        "                        \"type\": \"string\",\n",
        "                        \"description\": \"Explanation for listing tables\",\n",
        "                    }\n",
        "                },\n",
        "                \"required\": [\"reasoning\"],\n",
        "            },\n",
        "        },\n",
        "        {\n",
        "            \"name\": \"describe_table\",\n",
        "            \"description\": \"Returns schema info for a specified table\",\n",
        "            \"input_schema\": {\n",
        "                \"type\": \"object\",\n",
        "                \"properties\": {\n",
        "                    \"reasoning\": {\n",
        "                        \"type\": \"string\",\n",
        "                        \"description\": \"Why we need to describe this table\",\n",
        "                    },\n",
        "                    \"table_name\": {\n",
        "                        \"type\": \"string\",\n",
        "                        \"description\": \"Name of a table to describe\",\n",
        "                    },\n",
        "                },\n",
        "                \"required\": [\"reasoning\", \"table_name\"],\n",
        "            },\n",
        "        },\n",
        "        {\n",
        "            \"name\": \"sample_table\",\n",
        "            \"description\": \"Returns sample rows from specified table\",\n",
        "            \"input_schema\": {\n",
        "                \"type\": \"object\",\n",
        "                \"properties\": {\n",
        "                    \"reasoning\": {\n",
        "                        \"type\": \"string\",\n",
        "                        \"description\": \"Why we need to sample this table\",\n",
        "                    },\n",
        "                    \"table_name\": {\n",
        "                        \"type\": \"string\",\n",
        "                        \"description\": \"Name of table to sample\",\n",
        "                    },\n",
        "                    \"row_sample_size\": {\n",
        "                        \"type\": \"integer\",\n",
        "                        \"description\": \"Number of rows to sample aim for 3-5 rows\",\n",
        "                    },\n",
        "                },\n",
        "                \"required\": [\"reasoning\", \"table_name\", \"row_sample_size\"],\n",
        "            },\n",
        "        },\n",
        "        {\n",
        "            \"name\": \"run_test_sql_query\",\n",
        "            \"description\": \"Tests a SQL query and returns results (only visible to agent)\",\n",
        "            \"input_schema\": {\n",
        "                \"type\": \"object\",\n",
        "                \"properties\": {\n",
        "                    \"reasoning\": {\n",
        "                        \"type\": \"string\",\n",
        "                        \"description\": \"Why we're testing this specific query\",\n",
        "                    },\n",
        "                    \"sql_query\": {\n",
        "                        \"type\": \"string\",\n",
        "                        \"description\": \"The SQL query to test\",\n",
        "                    },\n",
        "                },\n",
        "                \"required\": [\"reasoning\", \"sql_query\"],\n",
        "            },\n",
        "        },\n",
        "        {\n",
        "            \"name\": \"run_final_sql_query\",\n",
        "            \"description\": \"Runs the final validated SQL query and shows results to user\",\n",
        "            \"input_schema\": {\n",
        "                \"type\": \"object\",\n",
        "                \"properties\": {\n",
        "                    \"reasoning\": {\n",
        "                        \"type\": \"string\",\n",
        "                        \"description\": \"Final explanation of how query satisfies user request\",\n",
        "                    },\n",
        "                    \"sql_query\": {\n",
        "                        \"type\": \"string\",\n",
        "                        \"description\": \"The validated SQL query to run\",\n",
        "                    },\n",
        "                },\n",
        "                \"required\": [\"reasoning\", \"sql_query\"],\n",
        "            },\n",
        "        },\n",
        "    ]"
      ],
      "metadata": {
        "id": "flwOFWouHEG9"
      },
      "execution_count": 45,
      "outputs": []
    },
    {
      "cell_type": "code",
      "source": [
        "# Helper function calling\n",
        "def call_function(func_name, func_args):\n",
        "\n",
        "    if func_name == \"list_tables\":\n",
        "        result = list_tables(reasoning=func_args[\"reasoning\"])\n",
        "    elif func_name == \"describe_table\":\n",
        "        result = describe_table(\n",
        "            reasoning=func_args[\"reasoning\"],\n",
        "            table_name=func_args[\"table_name\"],\n",
        "        )\n",
        "    elif func_name == \"sample_table\":\n",
        "        result = sample_table(\n",
        "            reasoning=func_args[\"reasoning\"],\n",
        "            table_name=func_args[\"table_name\"],\n",
        "            row_sample_size=func_args[\"row_sample_size\"],\n",
        "        )\n",
        "    elif func_name == \"run_test_sql_query\":\n",
        "        result = run_test_sql_query(\n",
        "            reasoning=func_args[\"reasoning\"],\n",
        "            sql_query=func_args[\"sql_query\"],\n",
        "        )\n",
        "    elif func_name == \"run_final_sql_query\":\n",
        "        result = run_final_sql_query(\n",
        "            reasoning=func_args[\"reasoning\"],\n",
        "            sql_query=func_args[\"sql_query\"],\n",
        "        )\n",
        "    else:\n",
        "        raise Exception(f\"Unknown tool call: {func_name}\")\n",
        "    return result"
      ],
      "metadata": {
        "id": "iXlFZvrARhws"
      },
      "execution_count": 51,
      "outputs": []
    },
    {
      "cell_type": "markdown",
      "source": [
        "## Prompt\n",
        "\n",
        "**Note**: When you call the Anthropic API with the tools parameter, we construct a special system prompt from the tool definitions, tool configuration, and any user-specified system prompt. The constructed prompt is designed to instruct the model to use the specified tool(s) and provide the necessary context for the tool to operate properly."
      ],
      "metadata": {
        "id": "qBFaYU3L7z0v"
      }
    },
    {
      "cell_type": "code",
      "source": [
        "AGENT_PROMPT = \"\"\"You are a world-class expert at crafting precise DuckDB SQL queries.\n",
        "Your goal is to generate accurate queries that exactly match the user's data needs.\n",
        "\n",
        "<instructions>\n",
        "    - Use the provided tools to explore the database and construct the perfect query.\n",
        "    - Start by listing tables to understand what's available.\n",
        "    - Describe tables to understand their schema and columns.\n",
        "    - Sample tables to see actual data patterns.\n",
        "    - Test queries before finalizing them.\n",
        "    - Only call run_final_sql_query when you're confident the query is perfect.\n",
        "    - Be thorough but efficient with tool usage.\n",
        "    - If you find your run_test_sql_query tool call returns an error or won't satisfy the user request, try to fix the query or try a different query.\n",
        "    - Think step by step about what information you need.\n",
        "    - Be sure to specify every parameter for each tool call.\n",
        "    - Every tool call should have a reasoning parameter which gives you a place to explain why you are calling the tool.\n",
        "</instructions>\n",
        "\n",
        "<user-request>\n",
        "    {{user_request}}\n",
        "</user-request>\n",
        "\"\"\""
      ],
      "metadata": {
        "id": "jRlc72wL71O-"
      },
      "execution_count": 63,
      "outputs": []
    },
    {
      "cell_type": "markdown",
      "source": [
        "## Main Agent Loop"
      ],
      "metadata": {
        "id": "OUoaNxAPG9yu"
      }
    },
    {
      "cell_type": "code",
      "source": [
        "# Initialize Anthropic client\n",
        "client = Anthropic(api_key=userdata.get('anthropic'))\n",
        "\n",
        "response = client.messages.create(\n",
        "                model=\"claude-3-7-sonnet-20250219\",\n",
        "                max_tokens=1024,\n",
        "                messages=[{\"role\": \"user\", \"content\": 'Hello Claude. How are you?'}])\n",
        "print(response.content[0].text)"
      ],
      "metadata": {
        "id": "M4dPxvupHrkR"
      },
      "execution_count": null,
      "outputs": []
    },
    {
      "cell_type": "markdown",
      "source": [
        "Example to test: Show me all users with score above 80"
      ],
      "metadata": {
        "id": "jHzLKqRbWjGn"
      }
    },
    {
      "cell_type": "code",
      "source": [
        "user_query = input('Enter query: ')\n",
        "completed_prompt = AGENT_PROMPT.replace(\"{{user_request}}\", user_query)\n",
        "messages = [{\"role\": \"user\", \"content\": completed_prompt}]\n",
        "\n",
        "max_iteration = 15\n",
        "compute_iterations = 0\n",
        "final_result = False\n",
        "\n",
        "# Main agent loop\n",
        "while not final_result:\n",
        "    print(f\"\\n=== Agent Loop {compute_iterations+1}/{max_iteration} ===\")\n",
        "    compute_iterations += 1\n",
        "\n",
        "    if compute_iterations > max_iteration:\n",
        "      print(\"Warning: Reached maximum compute loops without final query\" )\n",
        "      break\n",
        "\n",
        "    # Generate content with tool support\n",
        "    response = client.messages.create(\n",
        "        model=\"claude-3-7-sonnet-20250219\",\n",
        "        max_tokens=1024,\n",
        "        messages=messages,\n",
        "        tools=tools,\n",
        "        tool_choice={\"type\": \"any\"}  # Always force a tool call\n",
        "    )\n",
        "\n",
        "    # Look for tool calls in the response (expecting ToolUseBlock objects)\n",
        "    tool_calls = []\n",
        "    for block in response.content:\n",
        "        if hasattr(block, \"type\") and block.type == \"tool_use\":\n",
        "            tool_calls.append(block)\n",
        "\n",
        "    for tool_call in tool_calls:\n",
        "        tool_use_id = tool_call.id\n",
        "        func_name = tool_call.name\n",
        "        func_args = (tool_call.input)\n",
        "\n",
        "        print(f\"Tool Call: {func_name}({json.dumps(func_args)})\")\n",
        "        messages.append({\"role\": \"assistant\", \"content\": response.content})\n",
        "\n",
        "        try:\n",
        "            result = call_function(func_name, func_args)\n",
        "            if func_name == \"run_final_sql_query\":\n",
        "                print(f\"\\n\\n***** Final Results *****\\n\")\n",
        "                print(result)\n",
        "                final_result = True\n",
        "                break\n",
        "            print(f\"Tool Call Result: {func_name}(...) ->\\n{result}\")\n",
        "\n",
        "            messages.append(\n",
        "                {\n",
        "                    \"role\": \"user\",\n",
        "                    \"content\": [\n",
        "                        {\n",
        "                            \"type\": \"tool_result\",\n",
        "                            \"tool_use_id\": tool_use_id,\n",
        "                            \"content\": str(result),\n",
        "                        }\n",
        "                    ],\n",
        "                }\n",
        "            )\n",
        "\n",
        "        except Exception as e:\n",
        "            error_msg = f\"Error executing {func_name}: {str(e)}\"\n",
        "            print(f\"{error_msg}\")\n",
        "            # See info https://docs.anthropic.com/en/docs/build-with-claude/tool-use/overview#troubleshooting-errors\n",
        "            messages.append(\n",
        "                {\n",
        "                    \"role\": \"user\",\n",
        "                    \"content\": [\n",
        "                        {\n",
        "                            \"type\": \"tool_result\",\n",
        "                            \"tool_use_id\": tool_use_id,\n",
        "                            \"content\": error_msg,\n",
        "                            \"is_error\": True\n",
        "                        }\n",
        "                    ]\n",
        "                }\n",
        "            )\n",
        "            continue\n"
      ],
      "metadata": {
        "colab": {
          "base_uri": "https://localhost:8080/",
          "height": 1000
        },
        "id": "yTzim2sEHZ-K",
        "outputId": "8c6f16ce-6708-423f-b0f4-5d2863ba29cc"
      },
      "execution_count": 65,
      "outputs": [
        {
          "name": "stdout",
          "output_type": "stream",
          "text": [
            "Enter query: Show me all users with score above 80\n"
          ]
        },
        {
          "output_type": "display_data",
          "data": {
            "text/plain": [
              "\n",
              "=== Agent Loop \u001b[1;36m1\u001b[0m/\u001b[1;36m15\u001b[0m ===\n"
            ],
            "text/html": [
              "<pre style=\"white-space:pre;overflow-x:auto;line-height:normal;font-family:Menlo,'DejaVu Sans Mono',consolas,'Courier New',monospace\">\n",
              "=== Agent Loop <span style=\"color: #008080; text-decoration-color: #008080; font-weight: bold\">1</span>/<span style=\"color: #008080; text-decoration-color: #008080; font-weight: bold\">15</span> ===\n",
              "</pre>\n"
            ]
          },
          "metadata": {}
        },
        {
          "output_type": "display_data",
          "data": {
            "text/plain": [
              "Tool Call: \u001b[1;35mlist_tables\u001b[0m\u001b[1m(\u001b[0m\u001b[1m{\u001b[0m\u001b[32m\"reasoning\"\u001b[0m: \u001b[32m\"To address the request, I first need to understand what tables are available \u001b[0m\n",
              "\u001b[32min the database to identify which one might contain user information and scores.\"\u001b[0m\u001b[1m}\u001b[0m\u001b[1m)\u001b[0m\n"
            ],
            "text/html": [
              "<pre style=\"white-space:pre;overflow-x:auto;line-height:normal;font-family:Menlo,'DejaVu Sans Mono',consolas,'Courier New',monospace\">Tool Call: <span style=\"color: #800080; text-decoration-color: #800080; font-weight: bold\">list_tables</span><span style=\"font-weight: bold\">({</span><span style=\"color: #008000; text-decoration-color: #008000\">\"reasoning\"</span>: <span style=\"color: #008000; text-decoration-color: #008000\">\"To address the request, I first need to understand what tables are available </span>\n",
              "<span style=\"color: #008000; text-decoration-color: #008000\">in the database to identify which one might contain user information and scores.\"</span><span style=\"font-weight: bold\">})</span>\n",
              "</pre>\n"
            ]
          },
          "metadata": {}
        },
        {
          "output_type": "display_data",
          "data": {
            "text/plain": [
              "List Tables Tool - Reasoning: To address the request, I first need to understand what tables are available in the \n",
              "database to identify which one might contain user information and scores.\n"
            ],
            "text/html": [
              "<pre style=\"white-space:pre;overflow-x:auto;line-height:normal;font-family:Menlo,'DejaVu Sans Mono',consolas,'Courier New',monospace\">List Tables Tool - Reasoning: To address the request, I first need to understand what tables are available in the \n",
              "database to identify which one might contain user information and scores.\n",
              "</pre>\n"
            ]
          },
          "metadata": {}
        },
        {
          "output_type": "display_data",
          "data": {
            "text/plain": [
              "Tool Call Result: \u001b[1;35mlist_tables\u001b[0m\u001b[1m(\u001b[0m\u001b[33m...\u001b[0m\u001b[1m)\u001b[0m ->\n",
              "\u001b[1m[\u001b[0m\u001b[32m'User'\u001b[0m\u001b[1m]\u001b[0m\n"
            ],
            "text/html": [
              "<pre style=\"white-space:pre;overflow-x:auto;line-height:normal;font-family:Menlo,'DejaVu Sans Mono',consolas,'Courier New',monospace\">Tool Call Result: <span style=\"color: #800080; text-decoration-color: #800080; font-weight: bold\">list_tables</span><span style=\"font-weight: bold\">(</span><span style=\"color: #808000; text-decoration-color: #808000\">...</span><span style=\"font-weight: bold\">)</span> -&gt;\n",
              "<span style=\"font-weight: bold\">[</span><span style=\"color: #008000; text-decoration-color: #008000\">'User'</span><span style=\"font-weight: bold\">]</span>\n",
              "</pre>\n"
            ]
          },
          "metadata": {}
        },
        {
          "output_type": "display_data",
          "data": {
            "text/plain": [
              "\n",
              "=== Agent Loop \u001b[1;36m2\u001b[0m/\u001b[1;36m15\u001b[0m ===\n"
            ],
            "text/html": [
              "<pre style=\"white-space:pre;overflow-x:auto;line-height:normal;font-family:Menlo,'DejaVu Sans Mono',consolas,'Courier New',monospace\">\n",
              "=== Agent Loop <span style=\"color: #008080; text-decoration-color: #008080; font-weight: bold\">2</span>/<span style=\"color: #008080; text-decoration-color: #008080; font-weight: bold\">15</span> ===\n",
              "</pre>\n"
            ]
          },
          "metadata": {}
        },
        {
          "output_type": "display_data",
          "data": {
            "text/plain": [
              "Tool Call: \u001b[1;35mdescribe_table\u001b[0m\u001b[1m(\u001b[0m\u001b[1m{\u001b[0m\u001b[32m\"reasoning\"\u001b[0m: \u001b[32m\"Now that I can see there's a User table, I need to examine its schema to \u001b[0m\n",
              "\u001b[32mconfirm it contains score information and understand its structure.\"\u001b[0m, \u001b[32m\"table_name\"\u001b[0m: \u001b[32m\"User\"\u001b[0m\u001b[1m}\u001b[0m\u001b[1m)\u001b[0m\n"
            ],
            "text/html": [
              "<pre style=\"white-space:pre;overflow-x:auto;line-height:normal;font-family:Menlo,'DejaVu Sans Mono',consolas,'Courier New',monospace\">Tool Call: <span style=\"color: #800080; text-decoration-color: #800080; font-weight: bold\">describe_table</span><span style=\"font-weight: bold\">({</span><span style=\"color: #008000; text-decoration-color: #008000\">\"reasoning\"</span>: <span style=\"color: #008000; text-decoration-color: #008000\">\"Now that I can see there's a User table, I need to examine its schema to </span>\n",
              "<span style=\"color: #008000; text-decoration-color: #008000\">confirm it contains score information and understand its structure.\"</span>, <span style=\"color: #008000; text-decoration-color: #008000\">\"table_name\"</span>: <span style=\"color: #008000; text-decoration-color: #008000\">\"User\"</span><span style=\"font-weight: bold\">})</span>\n",
              "</pre>\n"
            ]
          },
          "metadata": {}
        },
        {
          "output_type": "display_data",
          "data": {
            "text/plain": [
              "Describe Table Tool - Table: User - Reasoning: Now that I can see there's a User table, I need to examine its \n",
              "schema to confirm it contains score information and understand its structure.\n"
            ],
            "text/html": [
              "<pre style=\"white-space:pre;overflow-x:auto;line-height:normal;font-family:Menlo,'DejaVu Sans Mono',consolas,'Courier New',monospace\">Describe Table Tool - Table: User - Reasoning: Now that I can see there's a User table, I need to examine its \n",
              "schema to confirm it contains score information and understand its structure.\n",
              "</pre>\n"
            ]
          },
          "metadata": {}
        },
        {
          "output_type": "display_data",
          "data": {
            "text/plain": [
              "Tool Call Result: \u001b[1;35mdescribe_table\u001b[0m\u001b[1m(\u001b[0m\u001b[33m...\u001b[0m\u001b[1m)\u001b[0m ->\n",
              "\u001b[1m(\u001b[0m\u001b[32m'id'\u001b[0m, \u001b[32m'UUID'\u001b[0m, \u001b[32m'YES'\u001b[0m, \u001b[3;35mNone\u001b[0m, \u001b[3;35mNone\u001b[0m, \u001b[3;35mNone\u001b[0m\u001b[1m)\u001b[0m\n",
              "\u001b[1m(\u001b[0m\u001b[32m'name'\u001b[0m, \u001b[32m'VARCHAR'\u001b[0m, \u001b[32m'YES'\u001b[0m, \u001b[3;35mNone\u001b[0m, \u001b[3;35mNone\u001b[0m, \u001b[3;35mNone\u001b[0m\u001b[1m)\u001b[0m\n",
              "\u001b[1m(\u001b[0m\u001b[32m'age'\u001b[0m, \u001b[32m'BIGINT'\u001b[0m, \u001b[32m'YES'\u001b[0m, \u001b[3;35mNone\u001b[0m, \u001b[3;35mNone\u001b[0m, \u001b[3;35mNone\u001b[0m\u001b[1m)\u001b[0m\n",
              "\u001b[1m(\u001b[0m\u001b[32m'city'\u001b[0m, \u001b[32m'VARCHAR'\u001b[0m, \u001b[32m'YES'\u001b[0m, \u001b[3;35mNone\u001b[0m, \u001b[3;35mNone\u001b[0m, \u001b[3;35mNone\u001b[0m\u001b[1m)\u001b[0m\n",
              "\u001b[1m(\u001b[0m\u001b[32m'score'\u001b[0m, \u001b[32m'DOUBLE'\u001b[0m, \u001b[32m'YES'\u001b[0m, \u001b[3;35mNone\u001b[0m, \u001b[3;35mNone\u001b[0m, \u001b[3;35mNone\u001b[0m\u001b[1m)\u001b[0m\n",
              "\u001b[1m(\u001b[0m\u001b[32m'is_active'\u001b[0m, \u001b[32m'BOOLEAN'\u001b[0m, \u001b[32m'YES'\u001b[0m, \u001b[3;35mNone\u001b[0m, \u001b[3;35mNone\u001b[0m, \u001b[3;35mNone\u001b[0m\u001b[1m)\u001b[0m\n",
              "\u001b[1m(\u001b[0m\u001b[32m'status'\u001b[0m, \u001b[32m'VARCHAR'\u001b[0m, \u001b[32m'YES'\u001b[0m, \u001b[3;35mNone\u001b[0m, \u001b[3;35mNone\u001b[0m, \u001b[3;35mNone\u001b[0m\u001b[1m)\u001b[0m\n",
              "\u001b[1m(\u001b[0m\u001b[32m'created_at'\u001b[0m, \u001b[32m'DATE'\u001b[0m, \u001b[32m'YES'\u001b[0m, \u001b[3;35mNone\u001b[0m, \u001b[3;35mNone\u001b[0m, \u001b[3;35mNone\u001b[0m\u001b[1m)\u001b[0m\n"
            ],
            "text/html": [
              "<pre style=\"white-space:pre;overflow-x:auto;line-height:normal;font-family:Menlo,'DejaVu Sans Mono',consolas,'Courier New',monospace\">Tool Call Result: <span style=\"color: #800080; text-decoration-color: #800080; font-weight: bold\">describe_table</span><span style=\"font-weight: bold\">(</span><span style=\"color: #808000; text-decoration-color: #808000\">...</span><span style=\"font-weight: bold\">)</span> -&gt;\n",
              "<span style=\"font-weight: bold\">(</span><span style=\"color: #008000; text-decoration-color: #008000\">'id'</span>, <span style=\"color: #008000; text-decoration-color: #008000\">'UUID'</span>, <span style=\"color: #008000; text-decoration-color: #008000\">'YES'</span>, <span style=\"color: #800080; text-decoration-color: #800080; font-style: italic\">None</span>, <span style=\"color: #800080; text-decoration-color: #800080; font-style: italic\">None</span>, <span style=\"color: #800080; text-decoration-color: #800080; font-style: italic\">None</span><span style=\"font-weight: bold\">)</span>\n",
              "<span style=\"font-weight: bold\">(</span><span style=\"color: #008000; text-decoration-color: #008000\">'name'</span>, <span style=\"color: #008000; text-decoration-color: #008000\">'VARCHAR'</span>, <span style=\"color: #008000; text-decoration-color: #008000\">'YES'</span>, <span style=\"color: #800080; text-decoration-color: #800080; font-style: italic\">None</span>, <span style=\"color: #800080; text-decoration-color: #800080; font-style: italic\">None</span>, <span style=\"color: #800080; text-decoration-color: #800080; font-style: italic\">None</span><span style=\"font-weight: bold\">)</span>\n",
              "<span style=\"font-weight: bold\">(</span><span style=\"color: #008000; text-decoration-color: #008000\">'age'</span>, <span style=\"color: #008000; text-decoration-color: #008000\">'BIGINT'</span>, <span style=\"color: #008000; text-decoration-color: #008000\">'YES'</span>, <span style=\"color: #800080; text-decoration-color: #800080; font-style: italic\">None</span>, <span style=\"color: #800080; text-decoration-color: #800080; font-style: italic\">None</span>, <span style=\"color: #800080; text-decoration-color: #800080; font-style: italic\">None</span><span style=\"font-weight: bold\">)</span>\n",
              "<span style=\"font-weight: bold\">(</span><span style=\"color: #008000; text-decoration-color: #008000\">'city'</span>, <span style=\"color: #008000; text-decoration-color: #008000\">'VARCHAR'</span>, <span style=\"color: #008000; text-decoration-color: #008000\">'YES'</span>, <span style=\"color: #800080; text-decoration-color: #800080; font-style: italic\">None</span>, <span style=\"color: #800080; text-decoration-color: #800080; font-style: italic\">None</span>, <span style=\"color: #800080; text-decoration-color: #800080; font-style: italic\">None</span><span style=\"font-weight: bold\">)</span>\n",
              "<span style=\"font-weight: bold\">(</span><span style=\"color: #008000; text-decoration-color: #008000\">'score'</span>, <span style=\"color: #008000; text-decoration-color: #008000\">'DOUBLE'</span>, <span style=\"color: #008000; text-decoration-color: #008000\">'YES'</span>, <span style=\"color: #800080; text-decoration-color: #800080; font-style: italic\">None</span>, <span style=\"color: #800080; text-decoration-color: #800080; font-style: italic\">None</span>, <span style=\"color: #800080; text-decoration-color: #800080; font-style: italic\">None</span><span style=\"font-weight: bold\">)</span>\n",
              "<span style=\"font-weight: bold\">(</span><span style=\"color: #008000; text-decoration-color: #008000\">'is_active'</span>, <span style=\"color: #008000; text-decoration-color: #008000\">'BOOLEAN'</span>, <span style=\"color: #008000; text-decoration-color: #008000\">'YES'</span>, <span style=\"color: #800080; text-decoration-color: #800080; font-style: italic\">None</span>, <span style=\"color: #800080; text-decoration-color: #800080; font-style: italic\">None</span>, <span style=\"color: #800080; text-decoration-color: #800080; font-style: italic\">None</span><span style=\"font-weight: bold\">)</span>\n",
              "<span style=\"font-weight: bold\">(</span><span style=\"color: #008000; text-decoration-color: #008000\">'status'</span>, <span style=\"color: #008000; text-decoration-color: #008000\">'VARCHAR'</span>, <span style=\"color: #008000; text-decoration-color: #008000\">'YES'</span>, <span style=\"color: #800080; text-decoration-color: #800080; font-style: italic\">None</span>, <span style=\"color: #800080; text-decoration-color: #800080; font-style: italic\">None</span>, <span style=\"color: #800080; text-decoration-color: #800080; font-style: italic\">None</span><span style=\"font-weight: bold\">)</span>\n",
              "<span style=\"font-weight: bold\">(</span><span style=\"color: #008000; text-decoration-color: #008000\">'created_at'</span>, <span style=\"color: #008000; text-decoration-color: #008000\">'DATE'</span>, <span style=\"color: #008000; text-decoration-color: #008000\">'YES'</span>, <span style=\"color: #800080; text-decoration-color: #800080; font-style: italic\">None</span>, <span style=\"color: #800080; text-decoration-color: #800080; font-style: italic\">None</span>, <span style=\"color: #800080; text-decoration-color: #800080; font-style: italic\">None</span><span style=\"font-weight: bold\">)</span>\n",
              "</pre>\n"
            ]
          },
          "metadata": {}
        },
        {
          "output_type": "display_data",
          "data": {
            "text/plain": [
              "\n",
              "=== Agent Loop \u001b[1;36m3\u001b[0m/\u001b[1;36m15\u001b[0m ===\n"
            ],
            "text/html": [
              "<pre style=\"white-space:pre;overflow-x:auto;line-height:normal;font-family:Menlo,'DejaVu Sans Mono',consolas,'Courier New',monospace\">\n",
              "=== Agent Loop <span style=\"color: #008080; text-decoration-color: #008080; font-weight: bold\">3</span>/<span style=\"color: #008080; text-decoration-color: #008080; font-weight: bold\">15</span> ===\n",
              "</pre>\n"
            ]
          },
          "metadata": {}
        },
        {
          "output_type": "display_data",
          "data": {
            "text/plain": [
              "Tool Call: \u001b[1;35msample_table\u001b[0m\u001b[1m(\u001b[0m\u001b[1m{\u001b[0m\u001b[32m\"reasoning\"\u001b[0m: \u001b[32m\"I want to see some sample data from the User table to understand the actual \u001b[0m\n",
              "\u001b[32mdata format and confirm the score column contains numerical values that can be compared against 80.\"\u001b[0m, \u001b[32m\"table_name\"\u001b[0m:\n",
              "\u001b[32m\"User\"\u001b[0m, \u001b[32m\"row_sample_size\"\u001b[0m: \u001b[1;36m5\u001b[0m\u001b[1m}\u001b[0m\u001b[1m)\u001b[0m\n"
            ],
            "text/html": [
              "<pre style=\"white-space:pre;overflow-x:auto;line-height:normal;font-family:Menlo,'DejaVu Sans Mono',consolas,'Courier New',monospace\">Tool Call: <span style=\"color: #800080; text-decoration-color: #800080; font-weight: bold\">sample_table</span><span style=\"font-weight: bold\">({</span><span style=\"color: #008000; text-decoration-color: #008000\">\"reasoning\"</span>: <span style=\"color: #008000; text-decoration-color: #008000\">\"I want to see some sample data from the User table to understand the actual </span>\n",
              "<span style=\"color: #008000; text-decoration-color: #008000\">data format and confirm the score column contains numerical values that can be compared against 80.\"</span>, <span style=\"color: #008000; text-decoration-color: #008000\">\"table_name\"</span>:\n",
              "<span style=\"color: #008000; text-decoration-color: #008000\">\"User\"</span>, <span style=\"color: #008000; text-decoration-color: #008000\">\"row_sample_size\"</span>: <span style=\"color: #008080; text-decoration-color: #008080; font-weight: bold\">5</span><span style=\"font-weight: bold\">})</span>\n",
              "</pre>\n"
            ]
          },
          "metadata": {}
        },
        {
          "output_type": "display_data",
          "data": {
            "text/plain": [
              "Sample Table Tool - Table: User -                 Rows: \u001b[1;36m5\u001b[0m - Reasoning: I want to see some sample data from the User\n",
              "table to understand the actual data format and confirm the score column contains numerical values that can be \n",
              "compared against \u001b[1;36m80\u001b[0m.\n"
            ],
            "text/html": [
              "<pre style=\"white-space:pre;overflow-x:auto;line-height:normal;font-family:Menlo,'DejaVu Sans Mono',consolas,'Courier New',monospace\">Sample Table Tool - Table: User -                 Rows: <span style=\"color: #008080; text-decoration-color: #008080; font-weight: bold\">5</span> - Reasoning: I want to see some sample data from the User\n",
              "table to understand the actual data format and confirm the score column contains numerical values that can be \n",
              "compared against <span style=\"color: #008080; text-decoration-color: #008080; font-weight: bold\">80</span>.\n",
              "</pre>\n"
            ]
          },
          "metadata": {}
        },
        {
          "output_type": "display_data",
          "data": {
            "text/plain": [
              "Tool Call Result: \u001b[1;35msample_table\u001b[0m\u001b[1m(\u001b[0m\u001b[33m...\u001b[0m\u001b[1m)\u001b[0m ->\n",
              "\u001b[1m[\u001b[0m\u001b[32m'id'\u001b[0m, \u001b[32m'name'\u001b[0m, \u001b[32m'age'\u001b[0m, \u001b[32m'city'\u001b[0m, \u001b[32m'score'\u001b[0m, \u001b[32m'is_active'\u001b[0m, \u001b[32m'status'\u001b[0m, \u001b[32m'created_at'\u001b[0m\u001b[1m]\u001b[0m\n",
              "\u001b[1m(\u001b[0m\u001b[1;35mUUID\u001b[0m\u001b[1m(\u001b[0m\u001b[32m'94efbf8b-4c95-4feb-9eda-900192276be7'\u001b[0m\u001b[1m)\u001b[0m, \u001b[32m'Fiona'\u001b[0m, \u001b[1;36m33\u001b[0m, \u001b[32m'Singapore'\u001b[0m, \u001b[1;36m95.48\u001b[0m, \u001b[3;92mTrue\u001b[0m, \u001b[32m'active'\u001b[0m, \u001b[1;35mdatetime.date\u001b[0m\u001b[1m(\u001b[0m\u001b[1;36m2024\u001b[0m,\n",
              "\u001b[1;36m4\u001b[0m, \u001b[1;36m30\u001b[0m\u001b[1m)\u001b[0m\u001b[1m)\u001b[0m\n",
              "\u001b[1m(\u001b[0m\u001b[1;35mUUID\u001b[0m\u001b[1m(\u001b[0m\u001b[32m'efcbb1f5-ffaf-4b40-a44b-cd67f6508eec'\u001b[0m\u001b[1m)\u001b[0m, \u001b[32m'Alice'\u001b[0m, \u001b[1;36m46\u001b[0m, \u001b[32m'Paris'\u001b[0m, \u001b[1;36m37.81\u001b[0m, \u001b[3;91mFalse\u001b[0m, \u001b[32m'active'\u001b[0m, \u001b[1;35mdatetime.date\u001b[0m\u001b[1m(\u001b[0m\u001b[1;36m2023\u001b[0m, \n",
              "\u001b[1;36m10\u001b[0m, \u001b[1;36m31\u001b[0m\u001b[1m)\u001b[0m\u001b[1m)\u001b[0m\n",
              "\u001b[1m(\u001b[0m\u001b[1;35mUUID\u001b[0m\u001b[1m(\u001b[0m\u001b[32m'9c2378d3-f46d-4f19-8e9e-b9053e6e57ea'\u001b[0m\u001b[1m)\u001b[0m, \u001b[32m'Charlie'\u001b[0m, \u001b[1;36m54\u001b[0m, \u001b[32m'Tokyo'\u001b[0m, \u001b[1;36m86.24\u001b[0m, \u001b[3;91mFalse\u001b[0m, \u001b[32m'archived'\u001b[0m, \n",
              "\u001b[1;35mdatetime.date\u001b[0m\u001b[1m(\u001b[0m\u001b[1;36m2023\u001b[0m, \u001b[1;36m11\u001b[0m, \u001b[1;36m15\u001b[0m\u001b[1m)\u001b[0m\u001b[1m)\u001b[0m\n",
              "\u001b[1m(\u001b[0m\u001b[1;35mUUID\u001b[0m\u001b[1m(\u001b[0m\u001b[32m'12a6dc88-1bd5-4a20-b729-e7a70918a60b'\u001b[0m\u001b[1m)\u001b[0m, \u001b[32m'Charlie'\u001b[0m, \u001b[1;36m31\u001b[0m, \u001b[32m'Tokyo'\u001b[0m, \u001b[1;36m61.24\u001b[0m, \u001b[3;92mTrue\u001b[0m, \u001b[32m'pending'\u001b[0m, \u001b[1;35mdatetime.date\u001b[0m\u001b[1m(\u001b[0m\u001b[1;36m2024\u001b[0m, \n",
              "\u001b[1;36m3\u001b[0m, \u001b[1;36m26\u001b[0m\u001b[1m)\u001b[0m\u001b[1m)\u001b[0m\n",
              "\u001b[1m(\u001b[0m\u001b[1;35mUUID\u001b[0m\u001b[1m(\u001b[0m\u001b[32m'dc1cf50e-c3c2-4843-8137-131834f7b00a'\u001b[0m\u001b[1m)\u001b[0m, \u001b[32m'Jane'\u001b[0m, \u001b[1;36m26\u001b[0m, \u001b[32m'London'\u001b[0m, \u001b[1;36m22.61\u001b[0m, \u001b[3;92mTrue\u001b[0m, \u001b[32m'inactive'\u001b[0m, \u001b[1;35mdatetime.date\u001b[0m\u001b[1m(\u001b[0m\u001b[1;36m2024\u001b[0m, \n",
              "\u001b[1;36m11\u001b[0m, \u001b[1;36m4\u001b[0m\u001b[1m)\u001b[0m\u001b[1m)\u001b[0m\n"
            ],
            "text/html": [
              "<pre style=\"white-space:pre;overflow-x:auto;line-height:normal;font-family:Menlo,'DejaVu Sans Mono',consolas,'Courier New',monospace\">Tool Call Result: <span style=\"color: #800080; text-decoration-color: #800080; font-weight: bold\">sample_table</span><span style=\"font-weight: bold\">(</span><span style=\"color: #808000; text-decoration-color: #808000\">...</span><span style=\"font-weight: bold\">)</span> -&gt;\n",
              "<span style=\"font-weight: bold\">[</span><span style=\"color: #008000; text-decoration-color: #008000\">'id'</span>, <span style=\"color: #008000; text-decoration-color: #008000\">'name'</span>, <span style=\"color: #008000; text-decoration-color: #008000\">'age'</span>, <span style=\"color: #008000; text-decoration-color: #008000\">'city'</span>, <span style=\"color: #008000; text-decoration-color: #008000\">'score'</span>, <span style=\"color: #008000; text-decoration-color: #008000\">'is_active'</span>, <span style=\"color: #008000; text-decoration-color: #008000\">'status'</span>, <span style=\"color: #008000; text-decoration-color: #008000\">'created_at'</span><span style=\"font-weight: bold\">]</span>\n",
              "<span style=\"font-weight: bold\">(</span><span style=\"color: #800080; text-decoration-color: #800080; font-weight: bold\">UUID</span><span style=\"font-weight: bold\">(</span><span style=\"color: #008000; text-decoration-color: #008000\">'94efbf8b-4c95-4feb-9eda-900192276be7'</span><span style=\"font-weight: bold\">)</span>, <span style=\"color: #008000; text-decoration-color: #008000\">'Fiona'</span>, <span style=\"color: #008080; text-decoration-color: #008080; font-weight: bold\">33</span>, <span style=\"color: #008000; text-decoration-color: #008000\">'Singapore'</span>, <span style=\"color: #008080; text-decoration-color: #008080; font-weight: bold\">95.48</span>, <span style=\"color: #00ff00; text-decoration-color: #00ff00; font-style: italic\">True</span>, <span style=\"color: #008000; text-decoration-color: #008000\">'active'</span>, <span style=\"color: #800080; text-decoration-color: #800080; font-weight: bold\">datetime.date</span><span style=\"font-weight: bold\">(</span><span style=\"color: #008080; text-decoration-color: #008080; font-weight: bold\">2024</span>,\n",
              "<span style=\"color: #008080; text-decoration-color: #008080; font-weight: bold\">4</span>, <span style=\"color: #008080; text-decoration-color: #008080; font-weight: bold\">30</span><span style=\"font-weight: bold\">))</span>\n",
              "<span style=\"font-weight: bold\">(</span><span style=\"color: #800080; text-decoration-color: #800080; font-weight: bold\">UUID</span><span style=\"font-weight: bold\">(</span><span style=\"color: #008000; text-decoration-color: #008000\">'efcbb1f5-ffaf-4b40-a44b-cd67f6508eec'</span><span style=\"font-weight: bold\">)</span>, <span style=\"color: #008000; text-decoration-color: #008000\">'Alice'</span>, <span style=\"color: #008080; text-decoration-color: #008080; font-weight: bold\">46</span>, <span style=\"color: #008000; text-decoration-color: #008000\">'Paris'</span>, <span style=\"color: #008080; text-decoration-color: #008080; font-weight: bold\">37.81</span>, <span style=\"color: #ff0000; text-decoration-color: #ff0000; font-style: italic\">False</span>, <span style=\"color: #008000; text-decoration-color: #008000\">'active'</span>, <span style=\"color: #800080; text-decoration-color: #800080; font-weight: bold\">datetime.date</span><span style=\"font-weight: bold\">(</span><span style=\"color: #008080; text-decoration-color: #008080; font-weight: bold\">2023</span>, \n",
              "<span style=\"color: #008080; text-decoration-color: #008080; font-weight: bold\">10</span>, <span style=\"color: #008080; text-decoration-color: #008080; font-weight: bold\">31</span><span style=\"font-weight: bold\">))</span>\n",
              "<span style=\"font-weight: bold\">(</span><span style=\"color: #800080; text-decoration-color: #800080; font-weight: bold\">UUID</span><span style=\"font-weight: bold\">(</span><span style=\"color: #008000; text-decoration-color: #008000\">'9c2378d3-f46d-4f19-8e9e-b9053e6e57ea'</span><span style=\"font-weight: bold\">)</span>, <span style=\"color: #008000; text-decoration-color: #008000\">'Charlie'</span>, <span style=\"color: #008080; text-decoration-color: #008080; font-weight: bold\">54</span>, <span style=\"color: #008000; text-decoration-color: #008000\">'Tokyo'</span>, <span style=\"color: #008080; text-decoration-color: #008080; font-weight: bold\">86.24</span>, <span style=\"color: #ff0000; text-decoration-color: #ff0000; font-style: italic\">False</span>, <span style=\"color: #008000; text-decoration-color: #008000\">'archived'</span>, \n",
              "<span style=\"color: #800080; text-decoration-color: #800080; font-weight: bold\">datetime.date</span><span style=\"font-weight: bold\">(</span><span style=\"color: #008080; text-decoration-color: #008080; font-weight: bold\">2023</span>, <span style=\"color: #008080; text-decoration-color: #008080; font-weight: bold\">11</span>, <span style=\"color: #008080; text-decoration-color: #008080; font-weight: bold\">15</span><span style=\"font-weight: bold\">))</span>\n",
              "<span style=\"font-weight: bold\">(</span><span style=\"color: #800080; text-decoration-color: #800080; font-weight: bold\">UUID</span><span style=\"font-weight: bold\">(</span><span style=\"color: #008000; text-decoration-color: #008000\">'12a6dc88-1bd5-4a20-b729-e7a70918a60b'</span><span style=\"font-weight: bold\">)</span>, <span style=\"color: #008000; text-decoration-color: #008000\">'Charlie'</span>, <span style=\"color: #008080; text-decoration-color: #008080; font-weight: bold\">31</span>, <span style=\"color: #008000; text-decoration-color: #008000\">'Tokyo'</span>, <span style=\"color: #008080; text-decoration-color: #008080; font-weight: bold\">61.24</span>, <span style=\"color: #00ff00; text-decoration-color: #00ff00; font-style: italic\">True</span>, <span style=\"color: #008000; text-decoration-color: #008000\">'pending'</span>, <span style=\"color: #800080; text-decoration-color: #800080; font-weight: bold\">datetime.date</span><span style=\"font-weight: bold\">(</span><span style=\"color: #008080; text-decoration-color: #008080; font-weight: bold\">2024</span>, \n",
              "<span style=\"color: #008080; text-decoration-color: #008080; font-weight: bold\">3</span>, <span style=\"color: #008080; text-decoration-color: #008080; font-weight: bold\">26</span><span style=\"font-weight: bold\">))</span>\n",
              "<span style=\"font-weight: bold\">(</span><span style=\"color: #800080; text-decoration-color: #800080; font-weight: bold\">UUID</span><span style=\"font-weight: bold\">(</span><span style=\"color: #008000; text-decoration-color: #008000\">'dc1cf50e-c3c2-4843-8137-131834f7b00a'</span><span style=\"font-weight: bold\">)</span>, <span style=\"color: #008000; text-decoration-color: #008000\">'Jane'</span>, <span style=\"color: #008080; text-decoration-color: #008080; font-weight: bold\">26</span>, <span style=\"color: #008000; text-decoration-color: #008000\">'London'</span>, <span style=\"color: #008080; text-decoration-color: #008080; font-weight: bold\">22.61</span>, <span style=\"color: #00ff00; text-decoration-color: #00ff00; font-style: italic\">True</span>, <span style=\"color: #008000; text-decoration-color: #008000\">'inactive'</span>, <span style=\"color: #800080; text-decoration-color: #800080; font-weight: bold\">datetime.date</span><span style=\"font-weight: bold\">(</span><span style=\"color: #008080; text-decoration-color: #008080; font-weight: bold\">2024</span>, \n",
              "<span style=\"color: #008080; text-decoration-color: #008080; font-weight: bold\">11</span>, <span style=\"color: #008080; text-decoration-color: #008080; font-weight: bold\">4</span><span style=\"font-weight: bold\">))</span>\n",
              "</pre>\n"
            ]
          },
          "metadata": {}
        },
        {
          "output_type": "display_data",
          "data": {
            "text/plain": [
              "\n",
              "=== Agent Loop \u001b[1;36m4\u001b[0m/\u001b[1;36m15\u001b[0m ===\n"
            ],
            "text/html": [
              "<pre style=\"white-space:pre;overflow-x:auto;line-height:normal;font-family:Menlo,'DejaVu Sans Mono',consolas,'Courier New',monospace\">\n",
              "=== Agent Loop <span style=\"color: #008080; text-decoration-color: #008080; font-weight: bold\">4</span>/<span style=\"color: #008080; text-decoration-color: #008080; font-weight: bold\">15</span> ===\n",
              "</pre>\n"
            ]
          },
          "metadata": {}
        },
        {
          "output_type": "display_data",
          "data": {
            "text/plain": [
              "Tool Call: \u001b[1;35mrun_test_sql_query\u001b[0m\u001b[1m(\u001b[0m\u001b[1m{\u001b[0m\u001b[32m\"reasoning\"\u001b[0m: \u001b[32m\"Now I'll test a query to find all users with a score above 80, as \u001b[0m\n",
              "\u001b[32mrequested. The score column is a DOUBLE type, so I'll use a simple comparison operator to filter users with scores \u001b[0m\n",
              "\u001b[32mgreater than 80.\"\u001b[0m, \u001b[32m\"sql_query\"\u001b[0m: \u001b[32m\"SELECT * FROM User WHERE score > 80 ORDER BY score DESC;\"\u001b[0m\u001b[1m}\u001b[0m\u001b[1m)\u001b[0m\n"
            ],
            "text/html": [
              "<pre style=\"white-space:pre;overflow-x:auto;line-height:normal;font-family:Menlo,'DejaVu Sans Mono',consolas,'Courier New',monospace\">Tool Call: <span style=\"color: #800080; text-decoration-color: #800080; font-weight: bold\">run_test_sql_query</span><span style=\"font-weight: bold\">({</span><span style=\"color: #008000; text-decoration-color: #008000\">\"reasoning\"</span>: <span style=\"color: #008000; text-decoration-color: #008000\">\"Now I'll test a query to find all users with a score above 80, as </span>\n",
              "<span style=\"color: #008000; text-decoration-color: #008000\">requested. The score column is a DOUBLE type, so I'll use a simple comparison operator to filter users with scores </span>\n",
              "<span style=\"color: #008000; text-decoration-color: #008000\">greater than 80.\"</span>, <span style=\"color: #008000; text-decoration-color: #008000\">\"sql_query\"</span>: <span style=\"color: #008000; text-decoration-color: #008000\">\"SELECT * FROM User WHERE score &gt; 80 ORDER BY score DESC;\"</span><span style=\"font-weight: bold\">})</span>\n",
              "</pre>\n"
            ]
          },
          "metadata": {}
        },
        {
          "output_type": "display_data",
          "data": {
            "text/plain": [
              "Test Query Tool - Reasoning: Now I'll test a query to find all users with a score above \u001b[1;36m80\u001b[0m, as requested. The score\n",
              "column is a DOUBLE type, so I'll use a simple comparison operator to filter users with scores greater than \u001b[1;36m80\u001b[0m.\n"
            ],
            "text/html": [
              "<pre style=\"white-space:pre;overflow-x:auto;line-height:normal;font-family:Menlo,'DejaVu Sans Mono',consolas,'Courier New',monospace\">Test Query Tool - Reasoning: Now I'll test a query to find all users with a score above <span style=\"color: #008080; text-decoration-color: #008080; font-weight: bold\">80</span>, as requested. The score\n",
              "column is a DOUBLE type, so I'll use a simple comparison operator to filter users with scores greater than <span style=\"color: #008080; text-decoration-color: #008080; font-weight: bold\">80</span>.\n",
              "</pre>\n"
            ]
          },
          "metadata": {}
        },
        {
          "output_type": "display_data",
          "data": {
            "text/plain": [
              "Query: SELECT * FROM User WHERE score > \u001b[1;36m80\u001b[0m ORDER BY score DESC;\n"
            ],
            "text/html": [
              "<pre style=\"white-space:pre;overflow-x:auto;line-height:normal;font-family:Menlo,'DejaVu Sans Mono',consolas,'Courier New',monospace\">Query: SELECT * FROM User WHERE score &gt; <span style=\"color: #008080; text-decoration-color: #008080; font-weight: bold\">80</span> ORDER BY score DESC;\n",
              "</pre>\n"
            ]
          },
          "metadata": {}
        },
        {
          "output_type": "display_data",
          "data": {
            "text/plain": [
              "Tool Call Result: \u001b[1;35mrun_test_sql_query\u001b[0m\u001b[1m(\u001b[0m\u001b[33m...\u001b[0m\u001b[1m)\u001b[0m ->\n",
              "\u001b[1m(\u001b[0m\u001b[1;35mUUID\u001b[0m\u001b[1m(\u001b[0m\u001b[32m'20b827b3-f183-44db-9f4f-f30b361c8a83'\u001b[0m\u001b[1m)\u001b[0m, \u001b[32m'Diana'\u001b[0m, \u001b[1;36m63\u001b[0m, \u001b[32m'Singapore'\u001b[0m, \u001b[1;36m96.18\u001b[0m, \u001b[3;91mFalse\u001b[0m, \u001b[32m'inactive'\u001b[0m, \n",
              "\u001b[1;35mdatetime.date\u001b[0m\u001b[1m(\u001b[0m\u001b[1;36m2024\u001b[0m, \u001b[1;36m8\u001b[0m, \u001b[1;36m2\u001b[0m\u001b[1m)\u001b[0m\u001b[1m)\u001b[0m\n",
              "\u001b[1m(\u001b[0m\u001b[1;35mUUID\u001b[0m\u001b[1m(\u001b[0m\u001b[32m'94efbf8b-4c95-4feb-9eda-900192276be7'\u001b[0m\u001b[1m)\u001b[0m, \u001b[32m'Fiona'\u001b[0m, \u001b[1;36m33\u001b[0m, \u001b[32m'Singapore'\u001b[0m, \u001b[1;36m95.48\u001b[0m, \u001b[3;92mTrue\u001b[0m, \u001b[32m'active'\u001b[0m, \u001b[1;35mdatetime.date\u001b[0m\u001b[1m(\u001b[0m\u001b[1;36m2024\u001b[0m,\n",
              "\u001b[1;36m4\u001b[0m, \u001b[1;36m30\u001b[0m\u001b[1m)\u001b[0m\u001b[1m)\u001b[0m\n",
              "\u001b[1m(\u001b[0m\u001b[1;35mUUID\u001b[0m\u001b[1m(\u001b[0m\u001b[32m'66036da1-7704-4ca6-9ec2-1e6d560db610'\u001b[0m\u001b[1m)\u001b[0m, \u001b[32m'Alice'\u001b[0m, \u001b[1;36m61\u001b[0m, \u001b[32m'Singapore'\u001b[0m, \u001b[1;36m93.69\u001b[0m, \u001b[3;92mTrue\u001b[0m, \u001b[32m'archived'\u001b[0m, \n",
              "\u001b[1;35mdatetime.date\u001b[0m\u001b[1m(\u001b[0m\u001b[1;36m2024\u001b[0m, \u001b[1;36m5\u001b[0m, \u001b[1;36m6\u001b[0m\u001b[1m)\u001b[0m\u001b[1m)\u001b[0m\n",
              "\u001b[1m(\u001b[0m\u001b[1;35mUUID\u001b[0m\u001b[1m(\u001b[0m\u001b[32m'2e4aded0-53aa-4668-b3b1-90f4747aa295'\u001b[0m\u001b[1m)\u001b[0m, \u001b[32m'Fiona'\u001b[0m, \u001b[1;36m20\u001b[0m, \u001b[32m'Tokyo'\u001b[0m, \u001b[1;36m88.64\u001b[0m, \u001b[3;92mTrue\u001b[0m, \u001b[32m'inactive'\u001b[0m, \u001b[1;35mdatetime.date\u001b[0m\u001b[1m(\u001b[0m\u001b[1;36m2023\u001b[0m, \n",
              "\u001b[1;36m4\u001b[0m, \u001b[1;36m8\u001b[0m\u001b[1m)\u001b[0m\u001b[1m)\u001b[0m\n",
              "\u001b[1m(\u001b[0m\u001b[1;35mUUID\u001b[0m\u001b[1m(\u001b[0m\u001b[32m'8612b8d7-4524-4575-a782-a01c4a0c88a3'\u001b[0m\u001b[1m)\u001b[0m, \u001b[32m'Bob'\u001b[0m, \u001b[1;36m25\u001b[0m, \u001b[32m'Berlin'\u001b[0m, \u001b[1;36m88.28\u001b[0m, \u001b[3;91mFalse\u001b[0m, \u001b[32m'pending'\u001b[0m, \u001b[1;35mdatetime.date\u001b[0m\u001b[1m(\u001b[0m\u001b[1;36m2025\u001b[0m, \u001b[1;36m1\u001b[0m,\n",
              "\u001b[1;36m16\u001b[0m\u001b[1m)\u001b[0m\u001b[1m)\u001b[0m\n",
              "\u001b[1m(\u001b[0m\u001b[1;35mUUID\u001b[0m\u001b[1m(\u001b[0m\u001b[32m'9c2378d3-f46d-4f19-8e9e-b9053e6e57ea'\u001b[0m\u001b[1m)\u001b[0m, \u001b[32m'Charlie'\u001b[0m, \u001b[1;36m54\u001b[0m, \u001b[32m'Tokyo'\u001b[0m, \u001b[1;36m86.24\u001b[0m, \u001b[3;91mFalse\u001b[0m, \u001b[32m'archived'\u001b[0m, \n",
              "\u001b[1;35mdatetime.date\u001b[0m\u001b[1m(\u001b[0m\u001b[1;36m2023\u001b[0m, \u001b[1;36m11\u001b[0m, \u001b[1;36m15\u001b[0m\u001b[1m)\u001b[0m\u001b[1m)\u001b[0m\n",
              "\u001b[1m(\u001b[0m\u001b[1;35mUUID\u001b[0m\u001b[1m(\u001b[0m\u001b[32m'1666fe7c-a2b1-44d5-abba-293c4e0f9b23'\u001b[0m\u001b[1m)\u001b[0m, \u001b[32m'Charlie'\u001b[0m, \u001b[1;36m58\u001b[0m, \u001b[32m'Sydney'\u001b[0m, \u001b[1;36m85.02\u001b[0m, \u001b[3;92mTrue\u001b[0m, \u001b[32m'active'\u001b[0m, \u001b[1;35mdatetime.date\u001b[0m\u001b[1m(\u001b[0m\u001b[1;36m2024\u001b[0m, \n",
              "\u001b[1;36m9\u001b[0m, \u001b[1;36m9\u001b[0m\u001b[1m)\u001b[0m\u001b[1m)\u001b[0m\n",
              "\u001b[1m(\u001b[0m\u001b[1;35mUUID\u001b[0m\u001b[1m(\u001b[0m\u001b[32m'ad992026-c339-40eb-a669-f16983d226ca'\u001b[0m\u001b[1m)\u001b[0m, \u001b[32m'Diana'\u001b[0m, \u001b[1;36m29\u001b[0m, \u001b[32m'Berlin'\u001b[0m, \u001b[1;36m84.17\u001b[0m, \u001b[3;91mFalse\u001b[0m, \u001b[32m'active'\u001b[0m, \u001b[1;35mdatetime.date\u001b[0m\u001b[1m(\u001b[0m\u001b[1;36m2023\u001b[0m, \n",
              "\u001b[1;36m7\u001b[0m, \u001b[1;36m26\u001b[0m\u001b[1m)\u001b[0m\u001b[1m)\u001b[0m\n",
              "\u001b[1m(\u001b[0m\u001b[1;35mUUID\u001b[0m\u001b[1m(\u001b[0m\u001b[32m'3674700e-a83f-4450-97c8-04f80f2d2e89'\u001b[0m\u001b[1m)\u001b[0m, \u001b[32m'Charlie'\u001b[0m, \u001b[1;36m30\u001b[0m, \u001b[32m'Sydney'\u001b[0m, \u001b[1;36m80.83\u001b[0m, \u001b[3;91mFalse\u001b[0m, \u001b[32m'active'\u001b[0m, \u001b[1;35mdatetime.date\u001b[0m\u001b[1m(\u001b[0m\u001b[1;36m2024\u001b[0m,\n",
              "\u001b[1;36m10\u001b[0m, \u001b[1;36m22\u001b[0m\u001b[1m)\u001b[0m\u001b[1m)\u001b[0m\n"
            ],
            "text/html": [
              "<pre style=\"white-space:pre;overflow-x:auto;line-height:normal;font-family:Menlo,'DejaVu Sans Mono',consolas,'Courier New',monospace\">Tool Call Result: <span style=\"color: #800080; text-decoration-color: #800080; font-weight: bold\">run_test_sql_query</span><span style=\"font-weight: bold\">(</span><span style=\"color: #808000; text-decoration-color: #808000\">...</span><span style=\"font-weight: bold\">)</span> -&gt;\n",
              "<span style=\"font-weight: bold\">(</span><span style=\"color: #800080; text-decoration-color: #800080; font-weight: bold\">UUID</span><span style=\"font-weight: bold\">(</span><span style=\"color: #008000; text-decoration-color: #008000\">'20b827b3-f183-44db-9f4f-f30b361c8a83'</span><span style=\"font-weight: bold\">)</span>, <span style=\"color: #008000; text-decoration-color: #008000\">'Diana'</span>, <span style=\"color: #008080; text-decoration-color: #008080; font-weight: bold\">63</span>, <span style=\"color: #008000; text-decoration-color: #008000\">'Singapore'</span>, <span style=\"color: #008080; text-decoration-color: #008080; font-weight: bold\">96.18</span>, <span style=\"color: #ff0000; text-decoration-color: #ff0000; font-style: italic\">False</span>, <span style=\"color: #008000; text-decoration-color: #008000\">'inactive'</span>, \n",
              "<span style=\"color: #800080; text-decoration-color: #800080; font-weight: bold\">datetime.date</span><span style=\"font-weight: bold\">(</span><span style=\"color: #008080; text-decoration-color: #008080; font-weight: bold\">2024</span>, <span style=\"color: #008080; text-decoration-color: #008080; font-weight: bold\">8</span>, <span style=\"color: #008080; text-decoration-color: #008080; font-weight: bold\">2</span><span style=\"font-weight: bold\">))</span>\n",
              "<span style=\"font-weight: bold\">(</span><span style=\"color: #800080; text-decoration-color: #800080; font-weight: bold\">UUID</span><span style=\"font-weight: bold\">(</span><span style=\"color: #008000; text-decoration-color: #008000\">'94efbf8b-4c95-4feb-9eda-900192276be7'</span><span style=\"font-weight: bold\">)</span>, <span style=\"color: #008000; text-decoration-color: #008000\">'Fiona'</span>, <span style=\"color: #008080; text-decoration-color: #008080; font-weight: bold\">33</span>, <span style=\"color: #008000; text-decoration-color: #008000\">'Singapore'</span>, <span style=\"color: #008080; text-decoration-color: #008080; font-weight: bold\">95.48</span>, <span style=\"color: #00ff00; text-decoration-color: #00ff00; font-style: italic\">True</span>, <span style=\"color: #008000; text-decoration-color: #008000\">'active'</span>, <span style=\"color: #800080; text-decoration-color: #800080; font-weight: bold\">datetime.date</span><span style=\"font-weight: bold\">(</span><span style=\"color: #008080; text-decoration-color: #008080; font-weight: bold\">2024</span>,\n",
              "<span style=\"color: #008080; text-decoration-color: #008080; font-weight: bold\">4</span>, <span style=\"color: #008080; text-decoration-color: #008080; font-weight: bold\">30</span><span style=\"font-weight: bold\">))</span>\n",
              "<span style=\"font-weight: bold\">(</span><span style=\"color: #800080; text-decoration-color: #800080; font-weight: bold\">UUID</span><span style=\"font-weight: bold\">(</span><span style=\"color: #008000; text-decoration-color: #008000\">'66036da1-7704-4ca6-9ec2-1e6d560db610'</span><span style=\"font-weight: bold\">)</span>, <span style=\"color: #008000; text-decoration-color: #008000\">'Alice'</span>, <span style=\"color: #008080; text-decoration-color: #008080; font-weight: bold\">61</span>, <span style=\"color: #008000; text-decoration-color: #008000\">'Singapore'</span>, <span style=\"color: #008080; text-decoration-color: #008080; font-weight: bold\">93.69</span>, <span style=\"color: #00ff00; text-decoration-color: #00ff00; font-style: italic\">True</span>, <span style=\"color: #008000; text-decoration-color: #008000\">'archived'</span>, \n",
              "<span style=\"color: #800080; text-decoration-color: #800080; font-weight: bold\">datetime.date</span><span style=\"font-weight: bold\">(</span><span style=\"color: #008080; text-decoration-color: #008080; font-weight: bold\">2024</span>, <span style=\"color: #008080; text-decoration-color: #008080; font-weight: bold\">5</span>, <span style=\"color: #008080; text-decoration-color: #008080; font-weight: bold\">6</span><span style=\"font-weight: bold\">))</span>\n",
              "<span style=\"font-weight: bold\">(</span><span style=\"color: #800080; text-decoration-color: #800080; font-weight: bold\">UUID</span><span style=\"font-weight: bold\">(</span><span style=\"color: #008000; text-decoration-color: #008000\">'2e4aded0-53aa-4668-b3b1-90f4747aa295'</span><span style=\"font-weight: bold\">)</span>, <span style=\"color: #008000; text-decoration-color: #008000\">'Fiona'</span>, <span style=\"color: #008080; text-decoration-color: #008080; font-weight: bold\">20</span>, <span style=\"color: #008000; text-decoration-color: #008000\">'Tokyo'</span>, <span style=\"color: #008080; text-decoration-color: #008080; font-weight: bold\">88.64</span>, <span style=\"color: #00ff00; text-decoration-color: #00ff00; font-style: italic\">True</span>, <span style=\"color: #008000; text-decoration-color: #008000\">'inactive'</span>, <span style=\"color: #800080; text-decoration-color: #800080; font-weight: bold\">datetime.date</span><span style=\"font-weight: bold\">(</span><span style=\"color: #008080; text-decoration-color: #008080; font-weight: bold\">2023</span>, \n",
              "<span style=\"color: #008080; text-decoration-color: #008080; font-weight: bold\">4</span>, <span style=\"color: #008080; text-decoration-color: #008080; font-weight: bold\">8</span><span style=\"font-weight: bold\">))</span>\n",
              "<span style=\"font-weight: bold\">(</span><span style=\"color: #800080; text-decoration-color: #800080; font-weight: bold\">UUID</span><span style=\"font-weight: bold\">(</span><span style=\"color: #008000; text-decoration-color: #008000\">'8612b8d7-4524-4575-a782-a01c4a0c88a3'</span><span style=\"font-weight: bold\">)</span>, <span style=\"color: #008000; text-decoration-color: #008000\">'Bob'</span>, <span style=\"color: #008080; text-decoration-color: #008080; font-weight: bold\">25</span>, <span style=\"color: #008000; text-decoration-color: #008000\">'Berlin'</span>, <span style=\"color: #008080; text-decoration-color: #008080; font-weight: bold\">88.28</span>, <span style=\"color: #ff0000; text-decoration-color: #ff0000; font-style: italic\">False</span>, <span style=\"color: #008000; text-decoration-color: #008000\">'pending'</span>, <span style=\"color: #800080; text-decoration-color: #800080; font-weight: bold\">datetime.date</span><span style=\"font-weight: bold\">(</span><span style=\"color: #008080; text-decoration-color: #008080; font-weight: bold\">2025</span>, <span style=\"color: #008080; text-decoration-color: #008080; font-weight: bold\">1</span>,\n",
              "<span style=\"color: #008080; text-decoration-color: #008080; font-weight: bold\">16</span><span style=\"font-weight: bold\">))</span>\n",
              "<span style=\"font-weight: bold\">(</span><span style=\"color: #800080; text-decoration-color: #800080; font-weight: bold\">UUID</span><span style=\"font-weight: bold\">(</span><span style=\"color: #008000; text-decoration-color: #008000\">'9c2378d3-f46d-4f19-8e9e-b9053e6e57ea'</span><span style=\"font-weight: bold\">)</span>, <span style=\"color: #008000; text-decoration-color: #008000\">'Charlie'</span>, <span style=\"color: #008080; text-decoration-color: #008080; font-weight: bold\">54</span>, <span style=\"color: #008000; text-decoration-color: #008000\">'Tokyo'</span>, <span style=\"color: #008080; text-decoration-color: #008080; font-weight: bold\">86.24</span>, <span style=\"color: #ff0000; text-decoration-color: #ff0000; font-style: italic\">False</span>, <span style=\"color: #008000; text-decoration-color: #008000\">'archived'</span>, \n",
              "<span style=\"color: #800080; text-decoration-color: #800080; font-weight: bold\">datetime.date</span><span style=\"font-weight: bold\">(</span><span style=\"color: #008080; text-decoration-color: #008080; font-weight: bold\">2023</span>, <span style=\"color: #008080; text-decoration-color: #008080; font-weight: bold\">11</span>, <span style=\"color: #008080; text-decoration-color: #008080; font-weight: bold\">15</span><span style=\"font-weight: bold\">))</span>\n",
              "<span style=\"font-weight: bold\">(</span><span style=\"color: #800080; text-decoration-color: #800080; font-weight: bold\">UUID</span><span style=\"font-weight: bold\">(</span><span style=\"color: #008000; text-decoration-color: #008000\">'1666fe7c-a2b1-44d5-abba-293c4e0f9b23'</span><span style=\"font-weight: bold\">)</span>, <span style=\"color: #008000; text-decoration-color: #008000\">'Charlie'</span>, <span style=\"color: #008080; text-decoration-color: #008080; font-weight: bold\">58</span>, <span style=\"color: #008000; text-decoration-color: #008000\">'Sydney'</span>, <span style=\"color: #008080; text-decoration-color: #008080; font-weight: bold\">85.02</span>, <span style=\"color: #00ff00; text-decoration-color: #00ff00; font-style: italic\">True</span>, <span style=\"color: #008000; text-decoration-color: #008000\">'active'</span>, <span style=\"color: #800080; text-decoration-color: #800080; font-weight: bold\">datetime.date</span><span style=\"font-weight: bold\">(</span><span style=\"color: #008080; text-decoration-color: #008080; font-weight: bold\">2024</span>, \n",
              "<span style=\"color: #008080; text-decoration-color: #008080; font-weight: bold\">9</span>, <span style=\"color: #008080; text-decoration-color: #008080; font-weight: bold\">9</span><span style=\"font-weight: bold\">))</span>\n",
              "<span style=\"font-weight: bold\">(</span><span style=\"color: #800080; text-decoration-color: #800080; font-weight: bold\">UUID</span><span style=\"font-weight: bold\">(</span><span style=\"color: #008000; text-decoration-color: #008000\">'ad992026-c339-40eb-a669-f16983d226ca'</span><span style=\"font-weight: bold\">)</span>, <span style=\"color: #008000; text-decoration-color: #008000\">'Diana'</span>, <span style=\"color: #008080; text-decoration-color: #008080; font-weight: bold\">29</span>, <span style=\"color: #008000; text-decoration-color: #008000\">'Berlin'</span>, <span style=\"color: #008080; text-decoration-color: #008080; font-weight: bold\">84.17</span>, <span style=\"color: #ff0000; text-decoration-color: #ff0000; font-style: italic\">False</span>, <span style=\"color: #008000; text-decoration-color: #008000\">'active'</span>, <span style=\"color: #800080; text-decoration-color: #800080; font-weight: bold\">datetime.date</span><span style=\"font-weight: bold\">(</span><span style=\"color: #008080; text-decoration-color: #008080; font-weight: bold\">2023</span>, \n",
              "<span style=\"color: #008080; text-decoration-color: #008080; font-weight: bold\">7</span>, <span style=\"color: #008080; text-decoration-color: #008080; font-weight: bold\">26</span><span style=\"font-weight: bold\">))</span>\n",
              "<span style=\"font-weight: bold\">(</span><span style=\"color: #800080; text-decoration-color: #800080; font-weight: bold\">UUID</span><span style=\"font-weight: bold\">(</span><span style=\"color: #008000; text-decoration-color: #008000\">'3674700e-a83f-4450-97c8-04f80f2d2e89'</span><span style=\"font-weight: bold\">)</span>, <span style=\"color: #008000; text-decoration-color: #008000\">'Charlie'</span>, <span style=\"color: #008080; text-decoration-color: #008080; font-weight: bold\">30</span>, <span style=\"color: #008000; text-decoration-color: #008000\">'Sydney'</span>, <span style=\"color: #008080; text-decoration-color: #008080; font-weight: bold\">80.83</span>, <span style=\"color: #ff0000; text-decoration-color: #ff0000; font-style: italic\">False</span>, <span style=\"color: #008000; text-decoration-color: #008000\">'active'</span>, <span style=\"color: #800080; text-decoration-color: #800080; font-weight: bold\">datetime.date</span><span style=\"font-weight: bold\">(</span><span style=\"color: #008080; text-decoration-color: #008080; font-weight: bold\">2024</span>,\n",
              "<span style=\"color: #008080; text-decoration-color: #008080; font-weight: bold\">10</span>, <span style=\"color: #008080; text-decoration-color: #008080; font-weight: bold\">22</span><span style=\"font-weight: bold\">))</span>\n",
              "</pre>\n"
            ]
          },
          "metadata": {}
        },
        {
          "output_type": "display_data",
          "data": {
            "text/plain": [
              "\n",
              "=== Agent Loop \u001b[1;36m5\u001b[0m/\u001b[1;36m15\u001b[0m ===\n"
            ],
            "text/html": [
              "<pre style=\"white-space:pre;overflow-x:auto;line-height:normal;font-family:Menlo,'DejaVu Sans Mono',consolas,'Courier New',monospace\">\n",
              "=== Agent Loop <span style=\"color: #008080; text-decoration-color: #008080; font-weight: bold\">5</span>/<span style=\"color: #008080; text-decoration-color: #008080; font-weight: bold\">15</span> ===\n",
              "</pre>\n"
            ]
          },
          "metadata": {}
        },
        {
          "output_type": "display_data",
          "data": {
            "text/plain": [
              "Tool Call: \u001b[1;35mrun_final_sql_query\u001b[0m\u001b[1m(\u001b[0m\u001b[1m{\u001b[0m\u001b[32m\"reasoning\"\u001b[0m: \u001b[32m\"The test query successfully returned all users with scores above 80, \u001b[0m\n",
              "\u001b[32mshowing 9 users who meet this criteria. The query is correctly filtering on the score column and ordering results \u001b[0m\n",
              "\u001b[32mby score in descending order to show the highest-scoring users first. This matches exactly what the user \u001b[0m\n",
              "\u001b[32mrequested.\"\u001b[0m, \u001b[32m\"sql_query\"\u001b[0m: \u001b[32m\"SELECT * FROM User WHERE score > 80 ORDER BY score DESC;\"\u001b[0m\u001b[1m}\u001b[0m\u001b[1m)\u001b[0m\n"
            ],
            "text/html": [
              "<pre style=\"white-space:pre;overflow-x:auto;line-height:normal;font-family:Menlo,'DejaVu Sans Mono',consolas,'Courier New',monospace\">Tool Call: <span style=\"color: #800080; text-decoration-color: #800080; font-weight: bold\">run_final_sql_query</span><span style=\"font-weight: bold\">({</span><span style=\"color: #008000; text-decoration-color: #008000\">\"reasoning\"</span>: <span style=\"color: #008000; text-decoration-color: #008000\">\"The test query successfully returned all users with scores above 80, </span>\n",
              "<span style=\"color: #008000; text-decoration-color: #008000\">showing 9 users who meet this criteria. The query is correctly filtering on the score column and ordering results </span>\n",
              "<span style=\"color: #008000; text-decoration-color: #008000\">by score in descending order to show the highest-scoring users first. This matches exactly what the user </span>\n",
              "<span style=\"color: #008000; text-decoration-color: #008000\">requested.\"</span>, <span style=\"color: #008000; text-decoration-color: #008000\">\"sql_query\"</span>: <span style=\"color: #008000; text-decoration-color: #008000\">\"SELECT * FROM User WHERE score &gt; 80 ORDER BY score DESC;\"</span><span style=\"font-weight: bold\">})</span>\n",
              "</pre>\n"
            ]
          },
          "metadata": {}
        },
        {
          "output_type": "display_data",
          "data": {
            "text/plain": [
              "Final Query Tool\n",
              "Reasoning: The test query successfully returned all users with scores above \u001b[1;36m80\u001b[0m, showing \u001b[1;36m9\u001b[0m users who meet this \n",
              "criteria. The query is correctly filtering on the score column and ordering results by score in descending order to\n",
              "show the highest-scoring users first. This matches exactly what the user requested.\n",
              "Query: SELECT * FROM User WHERE score > \u001b[1;36m80\u001b[0m ORDER BY score DESC;\n"
            ],
            "text/html": [
              "<pre style=\"white-space:pre;overflow-x:auto;line-height:normal;font-family:Menlo,'DejaVu Sans Mono',consolas,'Courier New',monospace\">Final Query Tool\n",
              "Reasoning: The test query successfully returned all users with scores above <span style=\"color: #008080; text-decoration-color: #008080; font-weight: bold\">80</span>, showing <span style=\"color: #008080; text-decoration-color: #008080; font-weight: bold\">9</span> users who meet this \n",
              "criteria. The query is correctly filtering on the score column and ordering results by score in descending order to\n",
              "show the highest-scoring users first. This matches exactly what the user requested.\n",
              "Query: SELECT * FROM User WHERE score &gt; <span style=\"color: #008080; text-decoration-color: #008080; font-weight: bold\">80</span> ORDER BY score DESC;\n",
              "</pre>\n"
            ]
          },
          "metadata": {}
        },
        {
          "output_type": "display_data",
          "data": {
            "text/plain": [
              "\n",
              "\n",
              "***** Final Results *****\n",
              "\n"
            ],
            "text/html": [
              "<pre style=\"white-space:pre;overflow-x:auto;line-height:normal;font-family:Menlo,'DejaVu Sans Mono',consolas,'Courier New',monospace\">\n",
              "\n",
              "***** Final Results *****\n",
              "\n",
              "</pre>\n"
            ]
          },
          "metadata": {}
        },
        {
          "output_type": "display_data",
          "data": {
            "text/plain": [
              "\u001b[1m(\u001b[0m\u001b[1;35mUUID\u001b[0m\u001b[1m(\u001b[0m\u001b[32m'20b827b3-f183-44db-9f4f-f30b361c8a83'\u001b[0m\u001b[1m)\u001b[0m, \u001b[32m'Diana'\u001b[0m, \u001b[1;36m63\u001b[0m, \u001b[32m'Singapore'\u001b[0m, \u001b[1;36m96.18\u001b[0m, \u001b[3;91mFalse\u001b[0m, \u001b[32m'inactive'\u001b[0m, \n",
              "\u001b[1;35mdatetime.date\u001b[0m\u001b[1m(\u001b[0m\u001b[1;36m2024\u001b[0m, \u001b[1;36m8\u001b[0m, \u001b[1;36m2\u001b[0m\u001b[1m)\u001b[0m\u001b[1m)\u001b[0m\n",
              "\u001b[1m(\u001b[0m\u001b[1;35mUUID\u001b[0m\u001b[1m(\u001b[0m\u001b[32m'94efbf8b-4c95-4feb-9eda-900192276be7'\u001b[0m\u001b[1m)\u001b[0m, \u001b[32m'Fiona'\u001b[0m, \u001b[1;36m33\u001b[0m, \u001b[32m'Singapore'\u001b[0m, \u001b[1;36m95.48\u001b[0m, \u001b[3;92mTrue\u001b[0m, \u001b[32m'active'\u001b[0m, \u001b[1;35mdatetime.date\u001b[0m\u001b[1m(\u001b[0m\u001b[1;36m2024\u001b[0m,\n",
              "\u001b[1;36m4\u001b[0m, \u001b[1;36m30\u001b[0m\u001b[1m)\u001b[0m\u001b[1m)\u001b[0m\n",
              "\u001b[1m(\u001b[0m\u001b[1;35mUUID\u001b[0m\u001b[1m(\u001b[0m\u001b[32m'66036da1-7704-4ca6-9ec2-1e6d560db610'\u001b[0m\u001b[1m)\u001b[0m, \u001b[32m'Alice'\u001b[0m, \u001b[1;36m61\u001b[0m, \u001b[32m'Singapore'\u001b[0m, \u001b[1;36m93.69\u001b[0m, \u001b[3;92mTrue\u001b[0m, \u001b[32m'archived'\u001b[0m, \n",
              "\u001b[1;35mdatetime.date\u001b[0m\u001b[1m(\u001b[0m\u001b[1;36m2024\u001b[0m, \u001b[1;36m5\u001b[0m, \u001b[1;36m6\u001b[0m\u001b[1m)\u001b[0m\u001b[1m)\u001b[0m\n",
              "\u001b[1m(\u001b[0m\u001b[1;35mUUID\u001b[0m\u001b[1m(\u001b[0m\u001b[32m'2e4aded0-53aa-4668-b3b1-90f4747aa295'\u001b[0m\u001b[1m)\u001b[0m, \u001b[32m'Fiona'\u001b[0m, \u001b[1;36m20\u001b[0m, \u001b[32m'Tokyo'\u001b[0m, \u001b[1;36m88.64\u001b[0m, \u001b[3;92mTrue\u001b[0m, \u001b[32m'inactive'\u001b[0m, \u001b[1;35mdatetime.date\u001b[0m\u001b[1m(\u001b[0m\u001b[1;36m2023\u001b[0m, \n",
              "\u001b[1;36m4\u001b[0m, \u001b[1;36m8\u001b[0m\u001b[1m)\u001b[0m\u001b[1m)\u001b[0m\n",
              "\u001b[1m(\u001b[0m\u001b[1;35mUUID\u001b[0m\u001b[1m(\u001b[0m\u001b[32m'8612b8d7-4524-4575-a782-a01c4a0c88a3'\u001b[0m\u001b[1m)\u001b[0m, \u001b[32m'Bob'\u001b[0m, \u001b[1;36m25\u001b[0m, \u001b[32m'Berlin'\u001b[0m, \u001b[1;36m88.28\u001b[0m, \u001b[3;91mFalse\u001b[0m, \u001b[32m'pending'\u001b[0m, \u001b[1;35mdatetime.date\u001b[0m\u001b[1m(\u001b[0m\u001b[1;36m2025\u001b[0m, \u001b[1;36m1\u001b[0m,\n",
              "\u001b[1;36m16\u001b[0m\u001b[1m)\u001b[0m\u001b[1m)\u001b[0m\n",
              "\u001b[1m(\u001b[0m\u001b[1;35mUUID\u001b[0m\u001b[1m(\u001b[0m\u001b[32m'9c2378d3-f46d-4f19-8e9e-b9053e6e57ea'\u001b[0m\u001b[1m)\u001b[0m, \u001b[32m'Charlie'\u001b[0m, \u001b[1;36m54\u001b[0m, \u001b[32m'Tokyo'\u001b[0m, \u001b[1;36m86.24\u001b[0m, \u001b[3;91mFalse\u001b[0m, \u001b[32m'archived'\u001b[0m, \n",
              "\u001b[1;35mdatetime.date\u001b[0m\u001b[1m(\u001b[0m\u001b[1;36m2023\u001b[0m, \u001b[1;36m11\u001b[0m, \u001b[1;36m15\u001b[0m\u001b[1m)\u001b[0m\u001b[1m)\u001b[0m\n",
              "\u001b[1m(\u001b[0m\u001b[1;35mUUID\u001b[0m\u001b[1m(\u001b[0m\u001b[32m'1666fe7c-a2b1-44d5-abba-293c4e0f9b23'\u001b[0m\u001b[1m)\u001b[0m, \u001b[32m'Charlie'\u001b[0m, \u001b[1;36m58\u001b[0m, \u001b[32m'Sydney'\u001b[0m, \u001b[1;36m85.02\u001b[0m, \u001b[3;92mTrue\u001b[0m, \u001b[32m'active'\u001b[0m, \u001b[1;35mdatetime.date\u001b[0m\u001b[1m(\u001b[0m\u001b[1;36m2024\u001b[0m, \n",
              "\u001b[1;36m9\u001b[0m, \u001b[1;36m9\u001b[0m\u001b[1m)\u001b[0m\u001b[1m)\u001b[0m\n",
              "\u001b[1m(\u001b[0m\u001b[1;35mUUID\u001b[0m\u001b[1m(\u001b[0m\u001b[32m'ad992026-c339-40eb-a669-f16983d226ca'\u001b[0m\u001b[1m)\u001b[0m, \u001b[32m'Diana'\u001b[0m, \u001b[1;36m29\u001b[0m, \u001b[32m'Berlin'\u001b[0m, \u001b[1;36m84.17\u001b[0m, \u001b[3;91mFalse\u001b[0m, \u001b[32m'active'\u001b[0m, \u001b[1;35mdatetime.date\u001b[0m\u001b[1m(\u001b[0m\u001b[1;36m2023\u001b[0m, \n",
              "\u001b[1;36m7\u001b[0m, \u001b[1;36m26\u001b[0m\u001b[1m)\u001b[0m\u001b[1m)\u001b[0m\n",
              "\u001b[1m(\u001b[0m\u001b[1;35mUUID\u001b[0m\u001b[1m(\u001b[0m\u001b[32m'3674700e-a83f-4450-97c8-04f80f2d2e89'\u001b[0m\u001b[1m)\u001b[0m, \u001b[32m'Charlie'\u001b[0m, \u001b[1;36m30\u001b[0m, \u001b[32m'Sydney'\u001b[0m, \u001b[1;36m80.83\u001b[0m, \u001b[3;91mFalse\u001b[0m, \u001b[32m'active'\u001b[0m, \u001b[1;35mdatetime.date\u001b[0m\u001b[1m(\u001b[0m\u001b[1;36m2024\u001b[0m,\n",
              "\u001b[1;36m10\u001b[0m, \u001b[1;36m22\u001b[0m\u001b[1m)\u001b[0m\u001b[1m)\u001b[0m\n"
            ],
            "text/html": [
              "<pre style=\"white-space:pre;overflow-x:auto;line-height:normal;font-family:Menlo,'DejaVu Sans Mono',consolas,'Courier New',monospace\"><span style=\"font-weight: bold\">(</span><span style=\"color: #800080; text-decoration-color: #800080; font-weight: bold\">UUID</span><span style=\"font-weight: bold\">(</span><span style=\"color: #008000; text-decoration-color: #008000\">'20b827b3-f183-44db-9f4f-f30b361c8a83'</span><span style=\"font-weight: bold\">)</span>, <span style=\"color: #008000; text-decoration-color: #008000\">'Diana'</span>, <span style=\"color: #008080; text-decoration-color: #008080; font-weight: bold\">63</span>, <span style=\"color: #008000; text-decoration-color: #008000\">'Singapore'</span>, <span style=\"color: #008080; text-decoration-color: #008080; font-weight: bold\">96.18</span>, <span style=\"color: #ff0000; text-decoration-color: #ff0000; font-style: italic\">False</span>, <span style=\"color: #008000; text-decoration-color: #008000\">'inactive'</span>, \n",
              "<span style=\"color: #800080; text-decoration-color: #800080; font-weight: bold\">datetime.date</span><span style=\"font-weight: bold\">(</span><span style=\"color: #008080; text-decoration-color: #008080; font-weight: bold\">2024</span>, <span style=\"color: #008080; text-decoration-color: #008080; font-weight: bold\">8</span>, <span style=\"color: #008080; text-decoration-color: #008080; font-weight: bold\">2</span><span style=\"font-weight: bold\">))</span>\n",
              "<span style=\"font-weight: bold\">(</span><span style=\"color: #800080; text-decoration-color: #800080; font-weight: bold\">UUID</span><span style=\"font-weight: bold\">(</span><span style=\"color: #008000; text-decoration-color: #008000\">'94efbf8b-4c95-4feb-9eda-900192276be7'</span><span style=\"font-weight: bold\">)</span>, <span style=\"color: #008000; text-decoration-color: #008000\">'Fiona'</span>, <span style=\"color: #008080; text-decoration-color: #008080; font-weight: bold\">33</span>, <span style=\"color: #008000; text-decoration-color: #008000\">'Singapore'</span>, <span style=\"color: #008080; text-decoration-color: #008080; font-weight: bold\">95.48</span>, <span style=\"color: #00ff00; text-decoration-color: #00ff00; font-style: italic\">True</span>, <span style=\"color: #008000; text-decoration-color: #008000\">'active'</span>, <span style=\"color: #800080; text-decoration-color: #800080; font-weight: bold\">datetime.date</span><span style=\"font-weight: bold\">(</span><span style=\"color: #008080; text-decoration-color: #008080; font-weight: bold\">2024</span>,\n",
              "<span style=\"color: #008080; text-decoration-color: #008080; font-weight: bold\">4</span>, <span style=\"color: #008080; text-decoration-color: #008080; font-weight: bold\">30</span><span style=\"font-weight: bold\">))</span>\n",
              "<span style=\"font-weight: bold\">(</span><span style=\"color: #800080; text-decoration-color: #800080; font-weight: bold\">UUID</span><span style=\"font-weight: bold\">(</span><span style=\"color: #008000; text-decoration-color: #008000\">'66036da1-7704-4ca6-9ec2-1e6d560db610'</span><span style=\"font-weight: bold\">)</span>, <span style=\"color: #008000; text-decoration-color: #008000\">'Alice'</span>, <span style=\"color: #008080; text-decoration-color: #008080; font-weight: bold\">61</span>, <span style=\"color: #008000; text-decoration-color: #008000\">'Singapore'</span>, <span style=\"color: #008080; text-decoration-color: #008080; font-weight: bold\">93.69</span>, <span style=\"color: #00ff00; text-decoration-color: #00ff00; font-style: italic\">True</span>, <span style=\"color: #008000; text-decoration-color: #008000\">'archived'</span>, \n",
              "<span style=\"color: #800080; text-decoration-color: #800080; font-weight: bold\">datetime.date</span><span style=\"font-weight: bold\">(</span><span style=\"color: #008080; text-decoration-color: #008080; font-weight: bold\">2024</span>, <span style=\"color: #008080; text-decoration-color: #008080; font-weight: bold\">5</span>, <span style=\"color: #008080; text-decoration-color: #008080; font-weight: bold\">6</span><span style=\"font-weight: bold\">))</span>\n",
              "<span style=\"font-weight: bold\">(</span><span style=\"color: #800080; text-decoration-color: #800080; font-weight: bold\">UUID</span><span style=\"font-weight: bold\">(</span><span style=\"color: #008000; text-decoration-color: #008000\">'2e4aded0-53aa-4668-b3b1-90f4747aa295'</span><span style=\"font-weight: bold\">)</span>, <span style=\"color: #008000; text-decoration-color: #008000\">'Fiona'</span>, <span style=\"color: #008080; text-decoration-color: #008080; font-weight: bold\">20</span>, <span style=\"color: #008000; text-decoration-color: #008000\">'Tokyo'</span>, <span style=\"color: #008080; text-decoration-color: #008080; font-weight: bold\">88.64</span>, <span style=\"color: #00ff00; text-decoration-color: #00ff00; font-style: italic\">True</span>, <span style=\"color: #008000; text-decoration-color: #008000\">'inactive'</span>, <span style=\"color: #800080; text-decoration-color: #800080; font-weight: bold\">datetime.date</span><span style=\"font-weight: bold\">(</span><span style=\"color: #008080; text-decoration-color: #008080; font-weight: bold\">2023</span>, \n",
              "<span style=\"color: #008080; text-decoration-color: #008080; font-weight: bold\">4</span>, <span style=\"color: #008080; text-decoration-color: #008080; font-weight: bold\">8</span><span style=\"font-weight: bold\">))</span>\n",
              "<span style=\"font-weight: bold\">(</span><span style=\"color: #800080; text-decoration-color: #800080; font-weight: bold\">UUID</span><span style=\"font-weight: bold\">(</span><span style=\"color: #008000; text-decoration-color: #008000\">'8612b8d7-4524-4575-a782-a01c4a0c88a3'</span><span style=\"font-weight: bold\">)</span>, <span style=\"color: #008000; text-decoration-color: #008000\">'Bob'</span>, <span style=\"color: #008080; text-decoration-color: #008080; font-weight: bold\">25</span>, <span style=\"color: #008000; text-decoration-color: #008000\">'Berlin'</span>, <span style=\"color: #008080; text-decoration-color: #008080; font-weight: bold\">88.28</span>, <span style=\"color: #ff0000; text-decoration-color: #ff0000; font-style: italic\">False</span>, <span style=\"color: #008000; text-decoration-color: #008000\">'pending'</span>, <span style=\"color: #800080; text-decoration-color: #800080; font-weight: bold\">datetime.date</span><span style=\"font-weight: bold\">(</span><span style=\"color: #008080; text-decoration-color: #008080; font-weight: bold\">2025</span>, <span style=\"color: #008080; text-decoration-color: #008080; font-weight: bold\">1</span>,\n",
              "<span style=\"color: #008080; text-decoration-color: #008080; font-weight: bold\">16</span><span style=\"font-weight: bold\">))</span>\n",
              "<span style=\"font-weight: bold\">(</span><span style=\"color: #800080; text-decoration-color: #800080; font-weight: bold\">UUID</span><span style=\"font-weight: bold\">(</span><span style=\"color: #008000; text-decoration-color: #008000\">'9c2378d3-f46d-4f19-8e9e-b9053e6e57ea'</span><span style=\"font-weight: bold\">)</span>, <span style=\"color: #008000; text-decoration-color: #008000\">'Charlie'</span>, <span style=\"color: #008080; text-decoration-color: #008080; font-weight: bold\">54</span>, <span style=\"color: #008000; text-decoration-color: #008000\">'Tokyo'</span>, <span style=\"color: #008080; text-decoration-color: #008080; font-weight: bold\">86.24</span>, <span style=\"color: #ff0000; text-decoration-color: #ff0000; font-style: italic\">False</span>, <span style=\"color: #008000; text-decoration-color: #008000\">'archived'</span>, \n",
              "<span style=\"color: #800080; text-decoration-color: #800080; font-weight: bold\">datetime.date</span><span style=\"font-weight: bold\">(</span><span style=\"color: #008080; text-decoration-color: #008080; font-weight: bold\">2023</span>, <span style=\"color: #008080; text-decoration-color: #008080; font-weight: bold\">11</span>, <span style=\"color: #008080; text-decoration-color: #008080; font-weight: bold\">15</span><span style=\"font-weight: bold\">))</span>\n",
              "<span style=\"font-weight: bold\">(</span><span style=\"color: #800080; text-decoration-color: #800080; font-weight: bold\">UUID</span><span style=\"font-weight: bold\">(</span><span style=\"color: #008000; text-decoration-color: #008000\">'1666fe7c-a2b1-44d5-abba-293c4e0f9b23'</span><span style=\"font-weight: bold\">)</span>, <span style=\"color: #008000; text-decoration-color: #008000\">'Charlie'</span>, <span style=\"color: #008080; text-decoration-color: #008080; font-weight: bold\">58</span>, <span style=\"color: #008000; text-decoration-color: #008000\">'Sydney'</span>, <span style=\"color: #008080; text-decoration-color: #008080; font-weight: bold\">85.02</span>, <span style=\"color: #00ff00; text-decoration-color: #00ff00; font-style: italic\">True</span>, <span style=\"color: #008000; text-decoration-color: #008000\">'active'</span>, <span style=\"color: #800080; text-decoration-color: #800080; font-weight: bold\">datetime.date</span><span style=\"font-weight: bold\">(</span><span style=\"color: #008080; text-decoration-color: #008080; font-weight: bold\">2024</span>, \n",
              "<span style=\"color: #008080; text-decoration-color: #008080; font-weight: bold\">9</span>, <span style=\"color: #008080; text-decoration-color: #008080; font-weight: bold\">9</span><span style=\"font-weight: bold\">))</span>\n",
              "<span style=\"font-weight: bold\">(</span><span style=\"color: #800080; text-decoration-color: #800080; font-weight: bold\">UUID</span><span style=\"font-weight: bold\">(</span><span style=\"color: #008000; text-decoration-color: #008000\">'ad992026-c339-40eb-a669-f16983d226ca'</span><span style=\"font-weight: bold\">)</span>, <span style=\"color: #008000; text-decoration-color: #008000\">'Diana'</span>, <span style=\"color: #008080; text-decoration-color: #008080; font-weight: bold\">29</span>, <span style=\"color: #008000; text-decoration-color: #008000\">'Berlin'</span>, <span style=\"color: #008080; text-decoration-color: #008080; font-weight: bold\">84.17</span>, <span style=\"color: #ff0000; text-decoration-color: #ff0000; font-style: italic\">False</span>, <span style=\"color: #008000; text-decoration-color: #008000\">'active'</span>, <span style=\"color: #800080; text-decoration-color: #800080; font-weight: bold\">datetime.date</span><span style=\"font-weight: bold\">(</span><span style=\"color: #008080; text-decoration-color: #008080; font-weight: bold\">2023</span>, \n",
              "<span style=\"color: #008080; text-decoration-color: #008080; font-weight: bold\">7</span>, <span style=\"color: #008080; text-decoration-color: #008080; font-weight: bold\">26</span><span style=\"font-weight: bold\">))</span>\n",
              "<span style=\"font-weight: bold\">(</span><span style=\"color: #800080; text-decoration-color: #800080; font-weight: bold\">UUID</span><span style=\"font-weight: bold\">(</span><span style=\"color: #008000; text-decoration-color: #008000\">'3674700e-a83f-4450-97c8-04f80f2d2e89'</span><span style=\"font-weight: bold\">)</span>, <span style=\"color: #008000; text-decoration-color: #008000\">'Charlie'</span>, <span style=\"color: #008080; text-decoration-color: #008080; font-weight: bold\">30</span>, <span style=\"color: #008000; text-decoration-color: #008000\">'Sydney'</span>, <span style=\"color: #008080; text-decoration-color: #008080; font-weight: bold\">80.83</span>, <span style=\"color: #ff0000; text-decoration-color: #ff0000; font-style: italic\">False</span>, <span style=\"color: #008000; text-decoration-color: #008000\">'active'</span>, <span style=\"color: #800080; text-decoration-color: #800080; font-weight: bold\">datetime.date</span><span style=\"font-weight: bold\">(</span><span style=\"color: #008080; text-decoration-color: #008080; font-weight: bold\">2024</span>,\n",
              "<span style=\"color: #008080; text-decoration-color: #008080; font-weight: bold\">10</span>, <span style=\"color: #008080; text-decoration-color: #008080; font-weight: bold\">22</span><span style=\"font-weight: bold\">))</span>\n",
              "</pre>\n"
            ]
          },
          "metadata": {}
        }
      ]
    }
  ]
}