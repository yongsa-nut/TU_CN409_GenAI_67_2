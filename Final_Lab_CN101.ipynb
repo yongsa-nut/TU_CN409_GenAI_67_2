{
  "nbformat": 4,
  "nbformat_minor": 0,
  "metadata": {
    "colab": {
      "provenance": [],
      "authorship_tag": "ABX9TyM4RoCX7+1KzivV3e58rg8i",
      "include_colab_link": true
    },
    "kernelspec": {
      "name": "python3",
      "display_name": "Python 3"
    },
    "language_info": {
      "name": "python"
    }
  },
  "cells": [
    {
      "cell_type": "markdown",
      "metadata": {
        "id": "view-in-github",
        "colab_type": "text"
      },
      "source": [
        "<a href=\"https://colab.research.google.com/github/yongsa-nut/TU_CN409_GenAI_67_2/blob/main/Final_Lab_CN101.ipynb\" target=\"_parent\"><img src=\"https://colab.research.google.com/assets/colab-badge.svg\" alt=\"Open In Colab\"/></a>"
      ]
    },
    {
      "cell_type": "markdown",
      "source": [
        "# Final Lab"
      ],
      "metadata": {
        "id": "5Ac1DYvHOqtL"
      }
    },
    {
      "cell_type": "markdown",
      "source": [
        "**Q1**: Write the output of the following program"
      ],
      "metadata": {
        "id": "MmHOownSOst0"
      }
    },
    {
      "cell_type": "code",
      "execution_count": null,
      "metadata": {
        "id": "nm1eUDYzOdx0"
      },
      "outputs": [],
      "source": [
        "my_list = [10, 50, 30, 5, 7]\n",
        "your_list = my_list[-3:]\n",
        "print(min(my_list), max(your_list))"
      ]
    },
    {
      "cell_type": "markdown",
      "source": [
        "**Q2**: Write the output of the following program"
      ],
      "metadata": {
        "id": "p0BMc-q4OuUN"
      }
    },
    {
      "cell_type": "code",
      "source": [
        "numbers = [5, 10, 7, 9, 2]\n",
        "list1 = sorted(numbers, reverse=True)\n",
        "list2 = sorted(numbers, reverse=False)\n",
        "print(list1)\n",
        "print(list2)"
      ],
      "metadata": {
        "id": "F4YmM71DOvTh"
      },
      "execution_count": null,
      "outputs": []
    },
    {
      "cell_type": "markdown",
      "source": [
        "**Q3**: Write the output of the following program"
      ],
      "metadata": {
        "id": "ytKZS8mxSuFH"
      }
    },
    {
      "cell_type": "code",
      "source": [
        "my_chars = ['AA','DD','BB','cc','ee','tt','kk']\n",
        "first = my_chars[:3]\n",
        "second = my_chars[-3:]\n",
        "f_str = \"-\".join(first)\n",
        "s_str = \" \".join(second)\n",
        "print(f_str + \" \" + s_str.upper())"
      ],
      "metadata": {
        "id": "zj3OpZvGSwOt"
      },
      "execution_count": null,
      "outputs": []
    },
    {
      "cell_type": "markdown",
      "source": [
        "**Q4**: Write the output of the following program"
      ],
      "metadata": {
        "id": "0A1CZ3JYSzXa"
      }
    },
    {
      "cell_type": "code",
      "source": [
        "temp = \"Hello<There<What<How<Okay<Yes\"\n",
        "words = temp.split('<')\n",
        "new_words = words[:2]\n",
        "print(new_words[-1])"
      ],
      "metadata": {
        "collapsed": true,
        "id": "6Sp9poqYS0WA"
      },
      "execution_count": null,
      "outputs": []
    },
    {
      "cell_type": "markdown",
      "source": [
        "**Q5**: Write the output of the following program"
      ],
      "metadata": {
        "id": "xe9HMJ85S0ia"
      }
    },
    {
      "cell_type": "code",
      "source": [
        "dna = \"A C C T T G C C\"\n",
        "dna_list = dna.split(\" \")\n",
        "dna_dict = {}\n",
        "for g in dna_list:\n",
        "    dna_dict[g] = dna_dict.get(g, 0) + 1\n",
        "print(dna_dict)"
      ],
      "metadata": {
        "id": "WWg2sn80S1Zv"
      },
      "execution_count": null,
      "outputs": []
    },
    {
      "cell_type": "markdown",
      "source": [
        "**Q6**: Write the output of the following program"
      ],
      "metadata": {
        "id": "iogWwecOS1x2"
      }
    },
    {
      "cell_type": "code",
      "source": [
        "list_c = [(t//2) for t in range(7) if t % 2 == 0]\n",
        "print(sum(list_c))\n",
        "print(list_c)"
      ],
      "metadata": {
        "id": "xX58Un9TS2wW"
      },
      "execution_count": null,
      "outputs": []
    },
    {
      "cell_type": "markdown",
      "source": [
        "**Q7**: Write the output of the following program"
      ],
      "metadata": {
        "id": "Mrt_apI5S3Qp"
      }
    },
    {
      "cell_type": "code",
      "source": [
        "my_dict = {'Alice':10, 'Bob':20, 'Zack':30, 'Rose':35}\n",
        "your_dict = {}\n",
        "my_dict['Rose'] = 25\n",
        "for name in my_dict:\n",
        "    if name in ['Alice', 'Rose', 'Zack']:\n",
        "        your_dict[name] = my_dict[name]\n",
        "print(your_dict)"
      ],
      "metadata": {
        "id": "OIVX3beAS4lh"
      },
      "execution_count": null,
      "outputs": []
    },
    {
      "cell_type": "markdown",
      "source": [
        "**Q8**: Write the output of the following program"
      ],
      "metadata": {
        "id": "3r6qzzIeS4xY"
      }
    },
    {
      "cell_type": "code",
      "source": [
        "sequences = [10, 20, 30]\n",
        "for i, num in enumerate(sequences):\n",
        "   print(f\"{i+1}, {num:.1f}\")"
      ],
      "metadata": {
        "id": "Q73VuKfhS6Cx"
      },
      "execution_count": null,
      "outputs": []
    },
    {
      "cell_type": "markdown",
      "source": [
        "**Q9**: Write the output of the following program"
      ],
      "metadata": {
        "id": "Hrub_MhiS8-H"
      }
    },
    {
      "cell_type": "code",
      "source": [
        "def do_something(f, s, t):\n",
        "    x = f*s\n",
        "    y = t - s\n",
        "    return x, y\n",
        "\n",
        "wtf = [(10, 20, 30), (5, 10, 15)]\n",
        "for i, (first, second, third) in enumerate(wtf):\n",
        "    a, b = do_something(first, second, third)\n",
        "    print(i, a, b)"
      ],
      "metadata": {
        "id": "YnTL0JUuS-qY"
      },
      "execution_count": null,
      "outputs": []
    },
    {
      "cell_type": "markdown",
      "source": [
        "**Q10**: Write the output of the following program"
      ],
      "metadata": {
        "id": "kcVzodkeS-3M"
      }
    },
    {
      "cell_type": "code",
      "source": [
        "import math\n",
        "\n",
        "def create_list(n):\n",
        "    x = math.sqrt(n)\n",
        "    y = x*10\n",
        "    return [x,y]\n",
        "\n",
        "def print_things(things):\n",
        "    print(f'{things[0]:.2f}, {things[1]:.2f}')\n",
        "\n",
        "def main():\n",
        "    outs = create_list(4)\n",
        "    print_things(outs)\n",
        "\n",
        "main()"
      ],
      "metadata": {
        "id": "1H1GKRYDS_4N"
      },
      "execution_count": null,
      "outputs": []
    },
    {
      "cell_type": "markdown",
      "source": [
        "# Short Programming"
      ],
      "metadata": {
        "id": "E5K1bBbgcIdc"
      }
    },
    {
      "cell_type": "markdown",
      "source": [
        "**Q11**: Pretty print\n",
        "\n",
        "Implement a function `pretty_print` which takes in a tuple and  print out like an example below.  \n",
        "\n",
        "Example\n",
        "```\n",
        "Your name is Alice\n",
        "Age: 20\n",
        "Height: 150\n",
        "Your name is Bob\n",
        "Age: 30\n",
        "Height: 170\n",
        "Your name is Anna\n",
        "Age: 16\n",
        "Height: 165\n",
        "```"
      ],
      "metadata": {
        "id": "5xHeukEiuXR_"
      }
    },
    {
      "cell_type": "code",
      "source": [
        "def pretty_print(info):\n",
        "    _________________________________\n",
        "    _________________________________\n",
        "    _________________________________\n",
        "\n",
        "def main():\n",
        "    students = [('Alice', 20, 150), ('Bob', 30, 170), ('Anna', 16, 165)]\n",
        "    for student in students:\n",
        "      pretty_print(student)\n",
        "main()"
      ],
      "metadata": {
        "id": "7NpZl3Beul2T"
      },
      "execution_count": null,
      "outputs": []
    },
    {
      "cell_type": "markdown",
      "source": [
        "**Q12**: Circle Properties\n",
        "\n",
        "Implement `circle_properties(radius)` function which takes in a radius of a circle and return area and the circumference of the circle.  \n",
        "\n",
        "**Input** (in `main`):\n",
        "- Real number. the radius from the user.\n",
        "\n",
        "**Output** (in `main`):\n",
        "- Real number. Area of the circle in two decimals.\n",
        "- Real number. Circumference in two decimals.\n",
        "\n",
        "**Note**:\n",
        "- Use pi value from math library\n",
        "\n",
        "Example 1:\n",
        "\n",
        "```\n",
        "Enter the radius: 1\n",
        "Area: 3.14\n",
        "Circumference: 6.28\n",
        "```\n",
        "\n",
        "Example 2:\n",
        "```\n",
        "Enter the radius: 2.5\n",
        "Area: 19.63\n",
        "Circumference: 15.71\n",
        "```"
      ],
      "metadata": {
        "id": "JtqBKgdmcMzD"
      }
    },
    {
      "cell_type": "code",
      "source": [
        "# import\n",
        "_____________________________\n",
        "\n",
        "# Implement circle_properties(radius) function here\n",
        "# Argument: radius\n",
        "# Returns: area and circumference\n",
        "def circle_properties(radius):\n",
        "    area = ____________________\n",
        "    circum = __________________\n",
        "    ___________________________\n",
        "\n",
        "def main():\n",
        "    radius = float(input(\"Enter the radius: \"))\n",
        "    # call circle_properties(radius) below\n",
        "    ____________________________\n",
        "    # print area and circumference\n",
        "    ____________________________\n",
        "    ____________________________\n",
        "\n",
        "main()"
      ],
      "metadata": {
        "id": "53IXbla5cQYM"
      },
      "execution_count": null,
      "outputs": []
    },
    {
      "cell_type": "markdown",
      "source": [
        "**Q13**: String to list of numbers\n",
        "\n",
        "Implement a function `query_and_preprocess` that asks the user for a sequence of numbers separated by `//` and converts it into a list of real numbers and return it.\n",
        "\n",
        "**Input**:\n",
        "- String, a sequence of numbers separated by `//`\n",
        "\n",
        "**Output**:\n",
        "- A list of numbers\n",
        "\n",
        "Example 1:\n",
        "```\n",
        "Enter numbers: 10//20//30\n",
        "Your list: [10, 20, 30]\n",
        "```\n",
        "\n",
        "Example 2:\n",
        "```\n",
        "Enter numbers: 5//10\n",
        "Your list: [5, 10]\n",
        "```"
      ],
      "metadata": {
        "id": "dDzL-aaocQsX"
      }
    },
    {
      "cell_type": "code",
      "source": [
        "def query_and_preprocess():\n",
        "    seq = input('Enter numbers: ')\n",
        "    # Fill in your code below\n",
        "    str_list = _________________________\n",
        "    _____________________________\n",
        "    _____________________________\n",
        "    _____________________________\n",
        "\n",
        "def main():\n",
        "    your_list = query_and_preprocess()\n",
        "    print(f'Your list: {your_list}')\n",
        "\n",
        "main()"
      ],
      "metadata": {
        "id": "f1XZDtEucUDK"
      },
      "execution_count": null,
      "outputs": []
    },
    {
      "cell_type": "markdown",
      "source": [
        "**Q14**: Temperature Convertion\n",
        "\n",
        "Implement a program and functions to convert temperature from Fahrenheit to Celsius and Celsius to Fahrenheit based on user's input as follows:\n",
        "\n",
        "- If user chooses 1, get the temperature in Fahrenheit and convert it to Celsius.\n",
        "- If user chooses 2, get the temperature in Celsius and convert it to Fahrenheit.\n",
        "- If user chooses 3, exit the program (break out of the loop)\n",
        "\n",
        "**Requirements**:\n",
        "- `FtoC` function to convert Fahrenheit to Celsius (F = C*1.8 + 32)\n",
        "- `CtoF` function to convert Celsius to Fahrenheit (C = (F-32)*5/9)\n",
        "- `main` function which keep asking the user until the user chooses 3\n",
        "\n",
        "**Input**:\n",
        "- User's choice (1, 2, or 3)\n",
        "- If user chooses 1, then a real number for Fahrenheit (in two decimal places)\n",
        "- If user chooses 2, then a real number for celcius (in two decimal places)\n",
        "\n",
        "**Output**:\n",
        "- Fahrenheit or Celsius depending on the user's choice\n",
        "\n",
        "Example:\n",
        "\n",
        "```\n",
        "== Choice 1: FtoC, Choice 2: CtoF, Choice 3: Exit ==\n",
        "Enter your choice (1, 2, 3): 1\n",
        "Enter Fahrenheit: 32\n",
        "Celsius = 0.00\n",
        "== Choice 1: FtoC, Choice 2: CtoF, Choice 3: Exit ==\n",
        "Enter your choice (1, 2, 3): 2\n",
        "Enter Celsius: 100\n",
        "Fahrenheit = 212.00\n",
        "== Choice 1: FtoC, Choice 2: CtoF, Choice 3: Exit ==\n",
        "Enter your choice (1, 2, 3): 3\n",
        "Exit\n",
        "```\n"
      ],
      "metadata": {
        "id": "pw1fTi8_crpv"
      }
    },
    {
      "cell_type": "code",
      "source": [
        "def FtoC(fah):\n",
        "    _______________________\n",
        "\n",
        "def CtoF(cel):\n",
        "    _______________________\n",
        "\n",
        "def main():\n",
        "    while True:\n",
        "        print('== Choice 1: FtoC, Choice 2: CtoF, Choice 3: Exit ==')\n",
        "        user_choice = int(input('Enter your choice (1, 2, 3): '))\n",
        "        if ___________________________:\n",
        "            fah = float(input('Enter Fahrenheit: '))\n",
        "            _____________________________\n",
        "            _____________________________\n",
        "        elif ___________________________:\n",
        "            cel = float(input('Enter Celsius: '))\n",
        "            _____________________________\n",
        "            _____________________________\n",
        "        elif ___________________________:\n",
        "            print('Exit')\n",
        "            ___________________\n",
        "main()"
      ],
      "metadata": {
        "id": "58AvlTD4cvsv"
      },
      "execution_count": null,
      "outputs": []
    },
    {
      "cell_type": "markdown",
      "source": [
        "**Q15**: Creating a dictionary\n",
        "\n",
        "Implement a program to create a dictionary of items and their amounts. The user will enter a sequence of pairs of items and amounts separated by `-`. For example, `Apple-20,Banana-30,Apple-10,Orange-40`. The same items will add all amounts together. The dictionary should be `{'Apple': 30, 'Banana':30,'Orange':40}`\n",
        "\n",
        "**Input**:\n",
        "- One string. A sequence of pairs of item and amount\n",
        "\n",
        "**Output**:\n",
        "- A dictionary\n",
        "\n",
        "**Pseudocode**:\n",
        "\n",
        "**Function: create_dict(item_amount_string)**\n",
        "1. Create an empty dictionary called `inventory_dict`\n",
        "2. Split the input `sequence` by commas into a list of string called `pairs`\n",
        "3. For each `pair` in the list `pairs`:\n",
        "   \n",
        "   a. Split the `pair` by hyphen (-) into a list of string of item and amount and set it to `pair` (itself)\n",
        "   \n",
        "   b. Set `item` to the first part (index 0) of `pair` (before hyphen)\n",
        "   \n",
        "   c. Set `amount` to the second part (index 1) of `pair` (after hyphen) converted to an integer\n",
        "   \n",
        "   d. If `item` already exists in `inventory_dict`, add the new `amount` to its current value. If not, set its value to the current `amount`. (you can use `get(key, default)`)\n",
        "4. Return the completed `inventory_dict`\n",
        "\n",
        "**Function: main()**\n",
        "1. Ask the user to input a sequence and store it in `user_input`\n",
        "2. Call the `create_dict` function with `user_input` and store the result in `result_dict`\n",
        "3. Display `result_dict` to the user\n",
        "\n",
        "**Program Execution**\n",
        "1. Call the `main` function to start the program\n",
        "\n",
        "Example:\n",
        "```\n",
        "Enter sequence: Apple-20,Banana-30,Apple-10,Orange-40\n",
        "{'Apple': 30, 'Banana': 30, 'Orange': 40}\n",
        "```"
      ],
      "metadata": {
        "id": "NibdY2Ptcy1G"
      }
    },
    {
      "cell_type": "code",
      "source": [
        "def create_dict(item_amount_string):\n",
        "    _____________________________________\n",
        "    pairs = _____________________________\n",
        "    for pair in pairs:\n",
        "        pair = ____________________________\n",
        "        ___________________________________\n",
        "        ___________________________________\n",
        "        inventory_dict[item] = inventory_dict.get(item, 0) + amount\n",
        "    _____________________________________\n",
        "\n",
        "def main():\n",
        "    user_input = input('Enter sequence: ')\n",
        "    _______________________________________\n",
        "    _______________________________________\n",
        "\n",
        "main()"
      ],
      "metadata": {
        "id": "qDyiGVAfc0Gt"
      },
      "execution_count": null,
      "outputs": []
    },
    {
      "cell_type": "markdown",
      "source": [
        "# Long Programming"
      ],
      "metadata": {
        "id": "AFrJyFfQcLIO"
      }
    },
    {
      "cell_type": "markdown",
      "source": [
        "**Q16**: Linear Regression\n",
        "\n",
        "In this problem, we will implement a simplified linear regression that we learned in the last lecture. The program will consist of three functions: `gen_data`, `squared_error`, and `main`. The detail of each function and pseudocode are provided below.\n",
        "\n",
        "**Function: gen_data(true_w, true_b, n)**\n",
        "\n",
        "**Description**: A function to generate a list of n pairs of x and y. The data will look like this [(x_1, y_1), ... , (x_n, y_n)]\n",
        "- Create an empty list called `data`\n",
        "- for loop `n` times\n",
        "  - Generate a random number using `random.uniform(-1,1)` and set it to `x`\n",
        "  - Calculate `y` based on the linear function `true_w*x + true_b`\n",
        "  - Append the pair (tuple) of `x` and `y` into `data`\n",
        "- Return `data`\n",
        "\n",
        "**Function: squared_error(w, b, x, y)**\n",
        "\n",
        "**Description**: A function to call calculate the squared error of a given data\n",
        "- Calculate y_hat based on the linear function `w*x + b` and set it to `y_hat`\n",
        "- Calculate squared error by subtracting `y` and `y_hat` and then square it and set it to `error`\n",
        "- return `error`\n",
        "\n",
        "**Function: main()**\n",
        "- Set random seed to 100\n",
        "- Query the user for **five values** in order: `true_w`, `true_b`, `w`, `b`, `n`. `n` is an integer and the rest are real/float number.\n",
        "- Call the `gen_data` with `true_w`, `true_b` and `n` to create a dataset and set to `dataset` variable\n",
        "- Create a variable `total_loss` to accumulate loss and set it to `0`\n",
        "- For `i, (x, y)` in `enumerate(dataset)`\n",
        "  - Call the `squared_error` to calculate loss for the data (`x` and `y`) and set it to `loss`\n",
        "  - Add `loss` to the `total_loss`\n",
        "  - if `i` is divible by 10\n",
        "    - print out `i`, `loss` and `total_loss` (two decimals. see example)\n",
        "- Calculate the mean of loss by dividing `total_loss` by `n` and set it to `mean_loss`\n",
        "- Display the `mean_loss` (two decimals) to the user  \n",
        "\n",
        "**Program Execution**\n",
        "- Call the main function to start the program\n",
        "\n",
        "**Note**:\n",
        "- The provided lines match the pseudocode.\n",
        "\n",
        "Example:\n",
        "\n",
        "```\n",
        "Enter true w: 1\n",
        "Enter true b: 1\n",
        "Enter w: 2\n",
        "Enter b: 2\n",
        "Enter n: 50\n",
        "Iteration 0: Loss = 0.08, total loss = 0.08\n",
        "Iteration 10: Loss = 0.01, total loss = 12.74\n",
        "Iteration 20: Loss = 1.57, total loss = 25.49\n",
        "Iteration 30: Loss = 0.00, total loss = 42.04\n",
        "Iteration 40: Loss = 3.26, total loss = 58.57\n",
        "Mean loss = 1.45\n",
        "```"
      ],
      "metadata": {
        "id": "VQe3qPAWs6Tf"
      }
    },
    {
      "cell_type": "code",
      "source": [
        "# import\n",
        "import random\n",
        "\n",
        "# implement gen_data function\n",
        "def gen_data(true_w, true_b, n):\n",
        "    _________________________\n",
        "    _________________________\n",
        "    _________________________\n",
        "    _________________________\n",
        "    _________________________\n",
        "    _________________________\n",
        "\n",
        "# implement loss function\n",
        "def squared_error(w, b, x, y):\n",
        "    _________________________\n",
        "    _________________________\n",
        "    _________________________\n",
        "\n",
        "# implement main function\n",
        "def main():\n",
        "    random.seed(100)\n",
        "    true_w = float(input('Enter true w: '))\n",
        "    true_b = float(input('Enter true b: '))\n",
        "    w = float(input('Enter w: '))\n",
        "    b = float(input('Enter b: '))\n",
        "    _______________________________________\n",
        "    _______________________________________\n",
        "    _______________________________________\n",
        "    for i, (x, y) in enumerate(data):\n",
        "        __________________________________\n",
        "        __________________________________\n",
        "        __________________________________\n",
        "        __________________________________\n",
        "    __________________________________\n",
        "    __________________________________\n",
        "\n",
        "main()"
      ],
      "metadata": {
        "id": "HFLC9biAAyTx"
      },
      "execution_count": null,
      "outputs": []
    },
    {
      "cell_type": "markdown",
      "source": [
        "**Q17**: Grades\n",
        "\n",
        "Implement a program to calculate the average scores and their grades for n students and report the number of students that achieve an A. The user will first enter the number of students. Afterward, the user will enter a sequence of scores separated by commas for each student.\n",
        "\n",
        "The criteria for grading is as follows:\n",
        "- A: score >= 80\n",
        "- B: 70 <= score < 80\n",
        "- C: 60 <= score < 70\n",
        "- F: score < 60\n",
        "\n",
        "**Requirements**:\n",
        "\n",
        "**Function: get_scores()**:\n",
        "- A function to ask the user for the scores and return a list of scores in float (e.g., [20, 30.5, 40]).\n",
        "\n",
        "**Function: average_score(scores)**:\n",
        "- A function to calculate an average score of a list of scores. It returns an avarege score.\n",
        "\n",
        "**Function: letter_grade(score)**:\n",
        "- A function to determine the grade which takes in one score and return one letter grade based on the above criteria\n",
        "\n",
        "**Function: main()**:\n",
        "- The main function which first asks the user for the number of students and then loop asking the user for each student's score by calling `get_scores()`. For each student, display their average and grade which are from `average_score` and `letter_grade` respectively.\n",
        "- Finally, print out the number of students that get an A.\n",
        "\n",
        "**Input**:\n",
        "- The number of students.\n",
        "- Scores for each student\n",
        "\n",
        "**Output**:\n",
        "- The average score and grade for each student\n",
        "- The number of students that get an A.\n",
        "\n",
        "Example:\n",
        "```\n",
        "Enter the number of students: 3\n",
        "Enter the scores: 89,75,92\n",
        "Student 1:\n",
        "Average: 85.33\n",
        "Grade: A\n",
        "Enter the scores: 80,70,69\n",
        "Student 2:\n",
        "Average: 73.00\n",
        "Grade: B\n",
        "Enter the scores: 99,98,97\n",
        "Student 3:\n",
        "Average: 98.00\n",
        "Grade: A\n",
        "Number of students who got an A: 2\n",
        "```"
      ],
      "metadata": {
        "id": "3V_noY7as9SJ"
      }
    },
    {
      "cell_type": "code",
      "source": [
        "def get_scores():\n",
        "    ...\n",
        "\n",
        "def average_score(scores):\n",
        "    ...\n",
        "\n",
        "def letter_grade(score):\n",
        "    ...\n",
        "\n",
        "def main():\n",
        "    ...\n",
        "\n",
        "main()"
      ],
      "metadata": {
        "id": "Wyfz_Lzms_u_"
      },
      "execution_count": null,
      "outputs": []
    }
  ]
}